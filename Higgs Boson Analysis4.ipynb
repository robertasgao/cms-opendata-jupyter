{
 "cells": [
  {
   "cell_type": "code",
   "execution_count": 1,
   "metadata": {},
   "outputs": [
    {
     "name": "stdout",
     "output_type": "stream",
     "text": [
      "Welcome to JupyROOT 6.22/00\n"
     ]
    }
   ],
   "source": [
    "#Initiating Packages\n",
    "import ROOT as r\n",
    "import numpy as np\n",
    "import math"
   ]
  },
  {
   "cell_type": "code",
   "execution_count": 2,
   "metadata": {},
   "outputs": [
    {
     "name": "stdout",
     "output_type": "stream",
     "text": [
      "TFile**\t\tsamples/Run2012BC_DoubleMuParked_skim.root\t\n",
      " TFile*\t\tsamples/Run2012BC_DoubleMuParked_skim.root\t\n",
      "  KEY: TTree\tEvents;2\tEvents\n",
      "  KEY: TTree\tEvents;1\tEvents\n"
     ]
    }
   ],
   "source": [
    "#Opening the simulation ROOT file\n",
    "fsimu = r.TFile(\"samples/Run2012BC_DoubleMuParked_skim.root\")\n",
    "#listing the content of the file\n",
    "fsimu.ls()\n",
    "t = fsimu.Get(\"Events\")"
   ]
  },
  {
   "cell_type": "code",
   "execution_count": 3,
   "metadata": {},
   "outputs": [
    {
     "name": "stdout",
     "output_type": "stream",
     "text": [
      "28859\n"
     ]
    }
   ],
   "source": [
    "#See how many events are there in this tree\n",
    "nEntries = t.GetEntries()\n",
    "print(nEntries)"
   ]
  },
  {
   "cell_type": "code",
   "execution_count": 4,
   "metadata": {
    "scrolled": true
   },
   "outputs": [
    {
     "name": "stdout",
     "output_type": "stream",
     "text": [
      "======> EVENT:13863\n",
      " run             = 201602\n",
      " luminosityBlock = 482\n",
      " event           = 663974244\n",
      " HLT_IsoMu24_eta2p1 = 1\n",
      " HLT_IsoMu24     = 1\n",
      " HLT_IsoMu17_eta2p1_LooseIsoPFTau20 = 1\n",
      " PV_npvs         = 25\n",
      " PV_x            = 0.0733916\n",
      " PV_y            = 0.0682706\n",
      " PV_z            = 2.52752\n",
      " nMuon           = 3\n",
      " Muon_pt         = 41.7265, \n",
      "                  46.8018, 6.98975\n",
      " Muon_eta        = -0.321514, \n",
      "                  0.042511, -0.646003\n",
      " Muon_phi        = -2.04514, \n",
      "                  1.13852, -2.3938\n",
      " Muon_mass       = 0.105658, \n",
      "                  0.105658, 0.105658\n",
      " Muon_charge     = -1, \n",
      "                  1, -1\n",
      " Muon_pfRelIso03_all = 0.0370553, \n",
      "                  0, -999\n",
      " Muon_pfRelIso04_all = 0.0370553, \n",
      "                  0.0618791, -999\n",
      " Muon_tightId    = 1, \n",
      "                  1, 0\n",
      " Muon_softId     = 1, \n",
      "                  1, 0\n",
      " Muon_dxy        = 0.00139095, \n",
      "                  0.00130484, -999\n",
      " Muon_dxyErr     = 0.00217884, \n",
      "                  0.00176071, -999\n",
      " Muon_dz         = -0.0054207, \n",
      "                  0.00292098, -999\n",
      " Muon_dzErr      = 0.00397491, \n",
      "                  0.00379825, -999\n",
      " Muon_jetIdx     = 0, \n",
      "                  32602, -1400215336\n",
      " Muon_genPartIdx = -1, \n",
      "                  -1, -1\n",
      " nElectron       = 2\n",
      " Electron_pt     = 22.136, \n",
      "                  23.5286\n",
      " Electron_eta    = -1.33492, \n",
      "                  1.25883\n",
      " Electron_phi    = -0.862987, \n",
      "                  1.90653\n",
      " Electron_mass   = -0.0133867, \n",
      "                  0.00610787\n",
      " Electron_charge = -1, \n",
      "                  -1\n",
      " Electron_pfRelIso03_all = -999, \n",
      "                  -999\n",
      " Electron_dxy    = -0.00255809, \n",
      "                  -0.000834789\n",
      " Electron_dxyErr = 0.00415228, \n",
      "                  0.00719144\n",
      " Electron_dz     = -0.00487253, \n",
      "                  0.000742603\n",
      " Electron_dzErr  = 0.00370686, \n",
      "                  0.00569102\n",
      " Electron_cutBasedId = 1, \n",
      "                  1\n",
      " Electron_pfId   = 0, \n",
      "                  0\n",
      " Electron_jetIdx = 0, \n",
      "                  0\n",
      " Electron_genPartIdx = -1, \n",
      "                  -1\n",
      " nTau            = 0\n",
      " MET_pt          = 20.4142\n",
      " MET_phi         = -2.54492\n",
      " MET_sumet       = 1514.21\n",
      " MET_significance = 1.07205\n",
      " MET_CovXX       = 425.822\n",
      " MET_CovXY       = -82.1687\n",
      " MET_CovYY       = 555.041\n",
      " nJet            = 0\n"
     ]
    }
   ],
   "source": [
    "#test a examplar event\n",
    "t.Show(13863)"
   ]
  },
  {
   "cell_type": "code",
   "execution_count": 5,
   "metadata": {},
   "outputs": [
    {
     "data": {
      "image/png": "[encoded data removed]",
      "text/plain": [
       "<IPython.core.display.Image object>"
      ]
     },
     "metadata": {},
     "output_type": "display_data"
    }
   ],
   "source": [
    "c = r.TCanvas('c1','c1',800,600)\n",
    "t.Draw('nElectron')\n",
    "c.Draw()"
   ]
  },
  {
   "cell_type": "code",
   "execution_count": 6,
   "metadata": {},
   "outputs": [
    {
     "data": {
      "image/png": "[encoded data removed]",
      "text/plain": [
       "<IPython.core.display.Image object>"
      ]
     },
     "metadata": {},
     "output_type": "display_data"
    }
   ],
   "source": [
    "t.Draw('nMuon')\n",
    "c.Draw()"
   ]
  },
  {
   "cell_type": "code",
   "execution_count": 37,
   "metadata": {},
   "outputs": [
    {
     "name": "stderr",
     "output_type": "stream",
     "text": [
      "Warning in <TFile::Append>: Replacing existing TH1: invmass2e2u (Potential memory leak).\n"
     ]
    }
   ],
   "source": [
    "#Creating a histogram for 2e2u invmass\n",
    "h_invmass2e2u = r.TH1F('invmass2e2u','invmass2e2u',130,70,200)\n",
    "h_invmass2e2u.Draw()\n",
    "c.Update()"
   ]
  },
  {
   "cell_type": "code",
   "execution_count": 38,
   "metadata": {},
   "outputs": [],
   "source": [
    "## write a function that computes the invariant mass given the event\n",
    "## the list version\n",
    "def invmass(Leptons):\n",
    "    m = 0\n",
    "    px = 0\n",
    "    py = 0\n",
    "    pz = 0\n",
    "    e = 0\n",
    "    for lep in Leptons:\n",
    "        px += lep['pt']*math.cos(lep['phi'])\n",
    "        py += lep['pt']*math.sin(lep['phi'])\n",
    "        theta = 2.*math.atan(np.exp(-lep['eta'])) \n",
    "        pz += lep['pt']/math.tan(theta)\n",
    "        e += np.sqrt(lep['pt']**2 + (lep['pt']/np.tan(theta))**2 + lep['mass']**2)\n",
    "    \n",
    "    m = np.sqrt(e**2 - px**2 - py**2 - pz**2)    \n",
    "    ## OR in the massless muon limit, the formula can be more compact:\n",
    "    #m  = np.sqrt(2*pt[0]*pt[1]*(np.cosh(eta[0]-eta[1])-np.cos(phi[0]-phi[1])))\n",
    "    return m"
   ]
  },
  {
   "cell_type": "code",
   "execution_count": 39,
   "metadata": {},
   "outputs": [
    {
     "data": {
      "image/png": "[encoded data removed]",
      "text/plain": [
       "<IPython.core.display.Image object>"
      ]
     },
     "metadata": {},
     "output_type": "display_data"
    }
   ],
   "source": [
    "#selecting the 2e2u events\n",
    "for i in range(0,nEntries):\n",
    "    t.GetEntry(i)\n",
    "    nGoodElectron = 0\n",
    "    Leptons = list()\n",
    "    totCharge = 0\n",
    "    #filtering the good electrons\n",
    "    for j in range(0,t.nElectron):\n",
    "        #relative isolation\n",
    "        Erellso = t.Electron_pfRelIso03_all[j]\n",
    "        if Erellso >= 0.4: continue\n",
    "        #transverse momentum \n",
    "        Ept = t.Electron_pt[j]\n",
    "        if Ept <= 7: continue\n",
    "        #pseudorapidity\n",
    "        Eeta = t.Electron_eta[j]\n",
    "        if abs(Eeta) >= 2.5: continue\n",
    "        #Transverse impact parameter\n",
    "        Edxy = t.Electron_dxy[j]\n",
    "        if abs(Edxy) >= 5: continue\n",
    "        #Longitudinal impact parameter\n",
    "        Edz = t.Electron_dz[j]\n",
    "        if abs(Edz) >= 10: continue\n",
    "        #3D impact significance\n",
    "        Esip = np.sqrt((Edxy / t.Electron_dxyErr[j]) ** 2 + (Edz / t.Electron_dzErr[j]) ** 2)\n",
    "        if Esip >= 4: continue\n",
    "        nGoodElectron += 1\n",
    "        totCharge += t.Electron_charge[j]\n",
    "        lepton = {\n",
    "            'pt' : Ept,\n",
    "            'phi' : t.Electron_phi[j],\n",
    "            'eta' : Eeta,\n",
    "            'mass' : t.Electron_mass[j],\n",
    "        }\n",
    "        Leptons.append(lepton)   \n",
    "    if nGoodElectron != 2: continue\n",
    "    Zmass1 = invmass(Leptons)\n",
    "    #filtering the good muons    \n",
    "    nGoodMuon = 0    \n",
    "    for j in range(0,t.nMuon):\n",
    "        #relative isolation\n",
    "        Mrellso = t.Muon_pfRelIso03_all[j]\n",
    "        if Mrellso >= 0.4: continue\n",
    "        #transverse momentum \n",
    "        Mpt = t.Muon_pt[j]\n",
    "        if Mpt <= 5: continue\n",
    "        #pseudorapidity\n",
    "        Meta = t.Muon_eta[j]\n",
    "        if abs(Meta) >= 2.4: continue\n",
    "        #Transverse impact parameter\n",
    "        Mdxy = t.Muon_dxy[j]\n",
    "        if abs(Mdxy) >= 5: continue\n",
    "        #Longitudinal impact parameter\n",
    "        Mdz = t.Muon_dz[j]\n",
    "        if abs(Mdz) >= 10: continue\n",
    "        #3D impact significance\n",
    "        Msip = np.sqrt((Mdxy / t.Muon_dxyErr[j]) ** 2 + (Mdz / t.Muon_dzErr[j]) ** 2)\n",
    "        if Msip >= 4: continue\n",
    "        nGoodMuon += 1\n",
    "        totCharge += t.Muon_charge[j]\n",
    "        lepton = {\n",
    "            'pt' : Mpt,\n",
    "            'phi' : t.Muon_phi[j],\n",
    "            'eta' : Meta,\n",
    "            'mass' : t.Muon_mass[j],\n",
    "        }\n",
    "        Leptons.append(lepton)    \n",
    "    if nGoodElectron + nGoodMuon != 4: continue \n",
    "    if totCharge != 0: continue  \n",
    "    Zmass2 = invmass(Leptons[2:])  \n",
    "    if (Zmass1 < Zmass2):\n",
    "        x = Zmass1\n",
    "        Zmass1 = Zmass2\n",
    "        Zmass2 = x\n",
    "    if (Zmass1<40)or(Zmass1>120): continue\n",
    "    if (Zmass2<12)or(Zmass2>120): continue    \n",
    "    h_invmass2e2u.Fill(invmass(Leptons))\n",
    "h_invmass2e2u.Draw()\n",
    "c.Update()\n",
    "c.Draw()"
   ]
  },
  {
   "cell_type": "code",
   "execution_count": 47,
   "metadata": {},
   "outputs": [
    {
     "name": "stderr",
     "output_type": "stream",
     "text": [
      "Warning in <TFile::Append>: Replacing existing TH1: invmass4u (Potential memory leak).\n"
     ]
    }
   ],
   "source": [
    "#Creating a histogram for 2e2u invmass\n",
    "h_invmass4u = r.TH1F('invmass4u','invmass4u',130,70,200)\n",
    "h_invmass4u.Draw()\n",
    "c.Update()"
   ]
  },
  {
   "cell_type": "code",
   "execution_count": 48,
   "metadata": {},
   "outputs": [
    {
     "data": {
      "image/png": "[encoded data removed]",
      "text/plain": [
       "<IPython.core.display.Image object>"
      ]
     },
     "metadata": {},
     "output_type": "display_data"
    }
   ],
   "source": [
    "#selecting the 4u events\n",
    "for i in range(0,nEntries):\n",
    "    t.GetEntry(i)\n",
    "    Leptons = list()\n",
    "    totCharge = 0\n",
    "    #filtering the good muons    \n",
    "    nGoodMuon = 0    \n",
    "    for j in range(0,t.nMuon):\n",
    "        #relative isolation\n",
    "        Mrellso = t.Muon_pfRelIso03_all[j]\n",
    "        if Mrellso >= 0.4: continue\n",
    "        #transverse momentum \n",
    "        Mpt = t.Muon_pt[j]\n",
    "        if Mpt <= 5: continue\n",
    "        #pseudorapidity\n",
    "        Meta = t.Muon_eta[j]\n",
    "        if abs(Meta) >= 2.4: continue\n",
    "        #Transverse impact parameter\n",
    "        Mdxy = t.Muon_dxy[j]\n",
    "        if abs(Mdxy) >= 5: continue\n",
    "        #Longitudinal impact parameter\n",
    "        Mdz = t.Muon_dz[j]\n",
    "        if abs(Mdz) >= 10: continue\n",
    "        #3D impact significance\n",
    "        Msip = np.sqrt((Mdxy / t.Muon_dxyErr[j]) ** 2 + (Mdz / t.Muon_dzErr[j]) ** 2)\n",
    "        if Msip >= 4: continue\n",
    "        nGoodMuon += 1\n",
    "        totCharge += t.Muon_charge[j]\n",
    "        lepton = {\n",
    "            'pt' : Mpt,\n",
    "            'phi' : t.Muon_phi[j],\n",
    "            'eta' : Meta,\n",
    "            'mass' : t.Muon_mass[j],\n",
    "        }\n",
    "        Leptons.append(lepton)\n",
    "    if nGoodMuon != 4: continue \n",
    "    if totCharge != 0: continue  \n",
    "    Leptons = sorted(Leptons, key = lambda j:j['pt'], reverse =True)\n",
    "    Zmass1 = invmass(Leptons[:2])\n",
    "    Zmass2 = invmass(Leptons[2:])  \n",
    "    if (Zmass1<40)or(Zmass1>120): continue\n",
    "    if (Zmass2<12)or(Zmass2>120): continue\n",
    "    h_invmass4u.Fill(invmass(Leptons))  \n",
    "h_invmass4u.Draw()\n",
    "c.Update()\n",
    "c.Draw()"
   ]
  },
  {
   "cell_type": "code",
   "execution_count": 56,
   "metadata": {},
   "outputs": [
    {
     "name": "stdout",
     "output_type": "stream",
     "text": [
      "TFile**\t\tsamples/Run2012B_DoubleElectron_skim.root\t\n",
      " TFile*\t\tsamples/Run2012B_DoubleElectron_skim.root\t\n",
      "  KEY: TTree\tEvents;2\tEvents\n",
      "  KEY: TTree\tEvents;1\tEvents\n"
     ]
    }
   ],
   "source": [
    "#Opening the simulation ROOT file\n",
    "fsimu = r.TFile(\"samples/Run2012B_DoubleElectron_skim.root\")\n",
    "#listing the content of the file\n",
    "fsimu.ls()\n",
    "t = fsimu.Get(\"Events\")"
   ]
  },
  {
   "cell_type": "code",
   "execution_count": 57,
   "metadata": {},
   "outputs": [],
   "source": [
    "#Creating a histogram for 4e invmass\n",
    "h_invmass4eB = r.TH1F('invmass4e','invmass4e',130,70,200)\n",
    "h_invmass4eB.Draw()\n",
    "c.Update()"
   ]
  },
  {
   "cell_type": "code",
   "execution_count": 58,
   "metadata": {},
   "outputs": [
    {
     "data": {
      "image/png": "[encoded data removed]",
      "text/plain": [
       "<IPython.core.display.Image object>"
      ]
     },
     "metadata": {},
     "output_type": "display_data"
    }
   ],
   "source": [
    "#selecting the 4u events\n",
    "for i in range(0,nEntries):\n",
    "    t.GetEntry(i)\n",
    "    Leptons = list()\n",
    "    totCharge = 0\n",
    "    #filtering the good electrons\n",
    "    nGoodElectron = 0\n",
    "    for j in range(0,t.nElectron):\n",
    "        #relative isolation\n",
    "        Erellso = t.Electron_pfRelIso03_all[j]\n",
    "        if Erellso >= 0.4: continue\n",
    "        #transverse momentum \n",
    "        Ept = t.Electron_pt[j]\n",
    "        if Ept <= 7: continue\n",
    "        #pseudorapidity\n",
    "        Eeta = t.Electron_eta[j]\n",
    "        if abs(Eeta) >= 2.5: continue\n",
    "        #Transverse impact parameter\n",
    "        Edxy = t.Electron_dxy[j]\n",
    "        if abs(Edxy) >= 5: continue\n",
    "        #Longitudinal impact parameter\n",
    "        Edz = t.Electron_dz[j]\n",
    "        if abs(Edz) >= 10: continue\n",
    "        #3D impact significance\n",
    "        Esip = np.sqrt((Edxy / t.Electron_dxyErr[j]) ** 2 + (Edz / t.Electron_dzErr[j]) ** 2)\n",
    "        if Esip >= 4: continue\n",
    "        nGoodElectron += 1\n",
    "        totCharge += t.Electron_charge[j]\n",
    "        lepton = {\n",
    "            'pt' : Ept,\n",
    "            'phi' : t.Electron_phi[j],\n",
    "            'eta' : Eeta,\n",
    "            'mass' : t.Electron_mass[j],\n",
    "        }\n",
    "        Leptons.append(lepton)   \n",
    "    if nGoodElectron != 4: continue\n",
    "    if totCharge != 0: continue  \n",
    "    Leptons = sorted(Leptons, key = lambda j:j['pt'], reverse =True)\n",
    "    Zmass1 = invmass(Leptons[:2])\n",
    "    Zmass2 = invmass(Leptons[2:])  \n",
    "    if (Zmass1<40)or(Zmass1>120): continue\n",
    "    if (Zmass2<12)or(Zmass2>120): continue\n",
    "    h_invmass4eB.Fill(invmass(Leptons))  \n",
    "h_invmass4eB.Draw()\n",
    "c.Update()\n",
    "c.Draw()"
   ]
  },
  {
   "cell_type": "code",
   "execution_count": 59,
   "metadata": {},
   "outputs": [
    {
     "name": "stdout",
     "output_type": "stream",
     "text": [
      "TFile**\t\tsamples/Run2012C_DoubleElectron_skim.root\t\n",
      " TFile*\t\tsamples/Run2012C_DoubleElectron_skim.root\t\n",
      "  KEY: TTree\tEvents;2\tEvents\n",
      "  KEY: TTree\tEvents;1\tEvents\n"
     ]
    }
   ],
   "source": [
    "#Opening the simulation ROOT file\n",
    "fsimu = r.TFile(\"samples/Run2012C_DoubleElectron_skim.root\")\n",
    "#listing the content of the file\n",
    "fsimu.ls()\n",
    "t = fsimu.Get(\"Events\")"
   ]
  },
  {
   "cell_type": "code",
   "execution_count": 60,
   "metadata": {},
   "outputs": [],
   "source": [
    "#Creating a histogram for 4e invmass\n",
    "h_invmass4eC = r.TH1F('invmass4e','invmass4e',130,70,200)\n",
    "h_invmass4eC.Draw()\n",
    "c.Update()"
   ]
  },
  {
   "cell_type": "code",
   "execution_count": 61,
   "metadata": {},
   "outputs": [
    {
     "data": {
      "image/png": "[encoded data removed]",
      "text/plain": [
       "<IPython.core.display.Image object>"
      ]
     },
     "metadata": {},
     "output_type": "display_data"
    }
   ],
   "source": [
    "#selecting the 4u events\n",
    "for i in range(0,nEntries):\n",
    "    t.GetEntry(i)\n",
    "    Leptons = list()\n",
    "    totCharge = 0\n",
    "    #filtering the good electrons\n",
    "    nGoodElectron = 0\n",
    "    for j in range(0,t.nElectron):\n",
    "        #relative isolation\n",
    "        Erellso = t.Electron_pfRelIso03_all[j]\n",
    "        if Erellso >= 0.4: continue\n",
    "        #transverse momentum \n",
    "        Ept = t.Electron_pt[j]\n",
    "        if Ept <= 7: continue\n",
    "        #pseudorapidity\n",
    "        Eeta = t.Electron_eta[j]\n",
    "        if abs(Eeta) >= 2.5: continue\n",
    "        #Transverse impact parameter\n",
    "        Edxy = t.Electron_dxy[j]\n",
    "        if abs(Edxy) >= 5: continue\n",
    "        #Longitudinal impact parameter\n",
    "        Edz = t.Electron_dz[j]\n",
    "        if abs(Edz) >= 10: continue\n",
    "        #3D impact significance\n",
    "        Esip = np.sqrt((Edxy / t.Electron_dxyErr[j]) ** 2 + (Edz / t.Electron_dzErr[j]) ** 2)\n",
    "        if Esip >= 4: continue\n",
    "        nGoodElectron += 1\n",
    "        totCharge += t.Electron_charge[j]\n",
    "        lepton = {\n",
    "            'pt' : Ept,\n",
    "            'phi' : t.Electron_phi[j],\n",
    "            'eta' : Eeta,\n",
    "            'mass' : t.Electron_mass[j],\n",
    "        }\n",
    "        Leptons.append(lepton)   \n",
    "    if nGoodElectron != 4: continue\n",
    "    if totCharge != 0: continue  \n",
    "    Leptons = sorted(Leptons, key = lambda j:j['pt'], reverse =True)\n",
    "    Zmass1 = invmass(Leptons[:2])\n",
    "    Zmass2 = invmass(Leptons[2:])  \n",
    "    if (Zmass1<40)or(Zmass1>120): continue\n",
    "    if (Zmass2<12)or(Zmass2>120): continue\n",
    "    h_invmass4eC.Fill(invmass(Leptons))  \n",
    "h_invmass4eC.Draw()\n",
    "c.Update()\n",
    "c.Draw()"
   ]
  }
 ],
 "metadata": {
  "kernelspec": {
   "display_name": "Python 2",
   "language": "python",
   "name": "python2"
  },
  "language_info": {
   "codemirror_mode": {
    "name": "ipython",
    "version": 2
   },
   "file_extension": ".py",
   "mimetype": "text/x-python",
   "name": "python",
   "nbconvert_exporter": "python",
   "pygments_lexer": "ipython2",
   "version": "2.7.15"
  }
 },
 "nbformat": 4,
 "nbformat_minor": 4
}
