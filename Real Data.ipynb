{
 "cells": [
  {
   "cell_type": "code",
   "execution_count": 1,
   "metadata": {},
   "outputs": [
    {
     "name": "stdout",
     "output_type": "stream",
     "text": [
      "Welcome to JupyROOT 6.22/00\n"
     ]
    }
   ],
   "source": [
    "#Initiating Packages\n",
    "import ROOT as r\n",
    "import numpy as np\n",
    "import math"
   ]
  },
  {
   "cell_type": "code",
   "execution_count": 2,
   "metadata": {},
   "outputs": [
    {
     "name": "stdout",
     "output_type": "stream",
     "text": [
      "TFile**\t\tsamples/Run2012BC_DoubleMuParked_skim_v2.root\t\n",
      " TFile*\t\tsamples/Run2012BC_DoubleMuParked_skim_v2.root\t\n",
      "  KEY: TTree\tEvents;1\tEvents\n"
     ]
    }
   ],
   "source": [
    "#Opening the simulation ROOT file\n",
    "fsimu = r.TFile(\"samples/Run2012BC_DoubleMuParked_skim_v2.root\")\n",
    "#listing the content of the file\n",
    "fsimu.ls()\n",
    "t = fsimu.Get(\"Events\")"
   ]
  },
  {
   "cell_type": "code",
   "execution_count": 3,
   "metadata": {},
   "outputs": [
    {
     "name": "stdout",
     "output_type": "stream",
     "text": [
      "529\n"
     ]
    }
   ],
   "source": [
    "#See how many events are there in this tree\n",
    "nEntries = t.GetEntries()\n",
    "print(nEntries)"
   ]
  },
  {
   "cell_type": "code",
   "execution_count": 4,
   "metadata": {
    "scrolled": true
   },
   "outputs": [
    {
     "name": "stdout",
     "output_type": "stream",
     "text": [
      "======> EVENT:76\n",
      " run             = 196218\n",
      " luminosityBlock = 166\n",
      " event           = 227768389\n",
      " HLT_IsoMu24_eta2p1 = 1\n",
      " HLT_IsoMu24     = 1\n",
      " HLT_IsoMu17_eta2p1_LooseIsoPFTau20 = 1\n",
      " PV_npvs         = 27\n",
      " PV_x            = 0.070507\n",
      " PV_y            = 0.0639399\n",
      " PV_z            = -8.00438\n",
      " nMuon           = 4\n",
      " Muon_pt         = 36.533, \n",
      "                  10.4773, 27.2219, 14.5257\n",
      " Muon_eta        = 2.37073, \n",
      "                  2.18417, 2.00538, 2.04798\n",
      " Muon_phi        = -1.0735, \n",
      "                  0.852362, 2.05706, 2.43646\n",
      " Muon_mass       = 0.105658, \n",
      "                  0.105658, 0.105658, 0.105658\n",
      " Muon_charge     = 1, \n",
      "                  1, -1, -1\n",
      " Muon_pfRelIso03_all = 0.0292253, \n",
      "                  0.343248, 0.135483, 0\n",
      " Muon_pfRelIso04_all = 0.0519239, \n",
      "                  0.343248, 0.135483, 0.113349\n",
      " Muon_tightId    = 1, \n",
      "                  1, 1, 1\n",
      " Muon_softId     = 1, \n",
      "                  1, 1, 1\n",
      " Muon_dxy        = 0.00323057, \n",
      "                  0.00221343, -0.000608462, -0.00025283\n",
      " Muon_dxyErr     = 0.00236253, \n",
      "                  0.00244795, 0.00123101, 0.00428323\n",
      " Muon_dz         = 0.00660884, \n",
      "                  0.000130024, 0.0075678, -0.0492009\n",
      " Muon_dzErr      = 0.00796959, \n",
      "                  0.00995735, 0.00583171, 0.0111079\n",
      " Muon_jetIdx     = -1, \n",
      "                  -1, -1, -1\n",
      " Muon_genPartIdx = -1, \n",
      "                  -1, -1, -1\n",
      " nElectron       = 0\n",
      " nTau            = 11\n",
      " Tau_pt          = 36.533, \n",
      "                  20.7395, 17.729, 17.3304, 16.8628, 16.6328, \n",
      "                  16.4277, 16.4149, 16.3147, 15.3988, 30.8737\n",
      " Tau_eta         = 2.37073, \n",
      "                  3.23283, 1.15096, -2.77059, -3.42196, -2.94071, \n",
      "                  -2.95061, -2.93512, -4.21452, -2.80749, 1.98861\n",
      " Tau_phi         = -1.0735, \n",
      "                  -1.07481, 1.99522, 3.09518, -2.70754, 0.599245, \n",
      "                  1.78697, -1.66792, 1.14616, -0.438659, 2.04021\n",
      " Tau_mass        = 0.1057, \n",
      "                  5.85727, 7.11809, 5.58694, 5.33202, 3.29054, \n",
      "                  4.28192, 4.91353, 5.2686, 4.50364, 2.18132\n",
      " Tau_charge      = 1, \n",
      "                  0, 0, 0, 0, 0, 0, 0, 0, 0, -1\n",
      " Tau_decayMode   = 0, \n",
      "                  -1, -1, -1, -1, -1, -1, -1, -1, -1, 1\n",
      " Tau_relIso_all  = 0, \n",
      "                  nan, nan, nan, nan, nan, \n",
      "                  nan, nan, nan, nan, 0.470489\n",
      " Tau_jetIdx      = -1, \n",
      "                  -1, -1, -1, -1, -1, -1, -1, -1, -1, -1\n",
      " Tau_genPartIdx  = -1, \n",
      "                  -1, -1, -1, -1, -1, -1, -1, -1, -1, -1\n",
      " Tau_idDecayMode = 1, \n",
      "                  0, 0, 0, 0, 0, 0, 0, 0, 0, 0\n",
      " Tau_idIsoRaw    = 0, \n",
      "                  0, 0, 0, 0, 0, \n",
      "                  0, 0, 0, 0, 0\n",
      " Tau_idIsoVLoose = 1, \n",
      "                  0, 0, 0, 0, 0, 0, 0, 0, 0, 0\n",
      " Tau_idIsoLoose  = 1, \n",
      "                  0, 0, 0, 0, 0, 0, 0, 0, 0, 0\n",
      " Tau_idIsoMedium = 1, \n",
      "                  0, 0, 0, 0, 0, 0, 0, 0, 0, 0\n",
      " Tau_idIsoTight  = 1, \n",
      "                  0, 0, 0, 0, 0, 0, 0, 0, 0, 0\n",
      " Tau_idAntiEleLoose = 1, \n",
      "                  0, 0, 0, 0, 0, 0, 0, 0, 0, 1\n",
      " Tau_idAntiEleMedium = 1, \n",
      "                  0, 0, 0, 0, 0, 0, 0, 0, 0, 1\n",
      " Tau_idAntiEleTight = 0, \n",
      "                  0, 0, 0, 0, 0, 0, 0, 0, 0, 1\n",
      " Tau_idAntiMuLoose = 0, \n",
      "                  1, 1, 1, 1, 1, 1, 1, 1, 1, 0\n",
      " Tau_idAntiMuMedium = 0, \n",
      "                  1, 1, 1, 1, 1, 1, 1, 1, 1, 0\n",
      " Tau_idAntiMuTight = 0, \n",
      "                  1, 1, 1, 1, 1, 1, 1, 1, 1, 0\n",
      " MET_pt          = 21.2341\n",
      " MET_phi         = -0.538116\n",
      " MET_sumet       = 1140.28\n",
      " MET_significance = 1.436\n",
      " MET_CovXX       = 294.514\n",
      " MET_CovXY       = -12.0593\n",
      " MET_CovYY       = 334.96\n",
      " nJet            = 4\n",
      " Jet_pt          = 19.8269, \n",
      "                  16.0721, 15.9676, 15.7741\n",
      " Jet_eta         = 3.19393, \n",
      "                  4.08587, -3.22566, -4.17952\n",
      " Jet_phi         = -1.11291, \n",
      "                  -2.70298, -2.72071, 1.15475\n",
      " Jet_mass        = 6.07895, \n",
      "                  5.57342, 4.75764, 4.9762\n",
      " Jet_puId        = 1, \n",
      "                  1, 1, 1\n",
      " Jet_btag        = -10, \n",
      "                  -10, -10, -10\n"
     ]
    }
   ],
   "source": [
    "#test a examplar event\n",
    "t.Show(76)"
   ]
  },
  {
   "cell_type": "code",
   "execution_count": 5,
   "metadata": {},
   "outputs": [],
   "source": [
    "c = r.TCanvas('c1','c1',800,600)"
   ]
  },
  {
   "cell_type": "code",
   "execution_count": 6,
   "metadata": {},
   "outputs": [],
   "source": [
    "#Creating a histogram for 2e2u invmass\n",
    "h_invmass2e2u = r.TH1F('invmass2e2u','invmass2e2u',37,70,181)\n",
    "h_invmass2e2u.SetFillColor(0)\n",
    "h_invmass2e2u.SetLineColor(r.kBlue)\n",
    "h_invmass2e2u.Sumw2()\n",
    "h_invmass2e2u.Draw()\n",
    "c.Update()"
   ]
  },
  {
   "cell_type": "code",
   "execution_count": 7,
   "metadata": {},
   "outputs": [],
   "source": [
    "def compare(Zmass1,Zmass2):\n",
    "    d1 = abs(90-Zmass1)\n",
    "    d2 = abs(90-Zmass2)\n",
    "    if d1>d2: return True\n",
    "    return False"
   ]
  },
  {
   "cell_type": "code",
   "execution_count": 8,
   "metadata": {},
   "outputs": [],
   "source": [
    "## write a function that computes the invariant mass given the event\n",
    "## the list version\n",
    "def invmass(Leptons):\n",
    "    m = 0\n",
    "    px = 0\n",
    "    py = 0\n",
    "    pz = 0\n",
    "    e = 0\n",
    "    for lep in Leptons:\n",
    "        px += lep['pt']*math.cos(lep['phi'])\n",
    "        py += lep['pt']*math.sin(lep['phi'])\n",
    "        theta = 2.*math.atan(np.exp(-lep['eta'])) \n",
    "        pz += lep['pt']/math.tan(theta)\n",
    "        e += np.sqrt(lep['pt']**2 + (lep['pt']/np.tan(theta))**2 + lep['mass']**2)\n",
    "    \n",
    "    m = np.sqrt(e**2 - px**2 - py**2 - pz**2)    \n",
    "    ## OR in the massless muon limit, the formula can be more compact:\n",
    "    #m  = np.sqrt(2*pt[0]*pt[1]*(np.cosh(eta[0]-eta[1])-np.cos(phi[0]-phi[1])))\n",
    "    return m"
   ]
  },
  {
   "cell_type": "code",
   "execution_count": 9,
   "metadata": {},
   "outputs": [
    {
     "data": {
      "image/png": "[encoded data removed]",
      "text/plain": [
       "<IPython.core.display.Image object>"
      ]
     },
     "metadata": {},
     "output_type": "display_data"
    }
   ],
   "source": [
    "#selecting the 2e2u events\n",
    "for i in range(0,nEntries):\n",
    "    t.GetEntry(i)\n",
    "    nGoodElectron = 0\n",
    "    Leptons = list()\n",
    "    totCharge = 0\n",
    "    #filtering the good electrons\n",
    "    for j in range(0,t.nElectron):\n",
    "        #relative isolation\n",
    "        Erellso = t.Electron_pfRelIso03_all[j]\n",
    "        if abs(Erellso) >= 0.4: continue\n",
    "        #transverse momentum \n",
    "        Ept = t.Electron_pt[j]\n",
    "        if Ept <= 7: continue\n",
    "        #pseudorapidity\n",
    "        Eeta = t.Electron_eta[j]\n",
    "        if abs(Eeta) >= 2.5: continue\n",
    "        #Transverse impact parameter\n",
    "        Edxy = t.Electron_dxy[j]\n",
    "        if abs(Edxy) >= 0.5: continue\n",
    "        #Longitudinal impact parameter\n",
    "        Edz = t.Electron_dz[j]\n",
    "        if abs(Edz) >= 1: continue\n",
    "        #3D impact significance\n",
    "        Esip = np.sqrt((Edxy**2+Edz**2)/(t.Electron_dxyErr[j]**2+t.Electron_dzErr[j]**2))\n",
    "        if Esip >= 4: continue\n",
    "        nGoodElectron += 1\n",
    "        totCharge += t.Electron_charge[j]\n",
    "        lepton = {\n",
    "            'pt' : Ept,\n",
    "            'phi' : t.Electron_phi[j],\n",
    "            'eta' : Eeta,\n",
    "            'mass' : t.Electron_mass[j],\n",
    "            'charge' : t.Electron_charge[j],\n",
    "        }\n",
    "        Leptons.append(lepton)       \n",
    "    if nGoodElectron != 2: continue\n",
    "    #2 electrons have the opposite charge    \n",
    "    if totCharge != 0: continue    \n",
    "    Zmass1 = invmass(Leptons)\n",
    "    Lpt1 = max(Leptons[0]['pt'],Leptons[1]['pt'])\n",
    "    Lpt2 = min(Leptons[0]['pt'],Leptons[1]['pt'])\n",
    "    #if (Lpt1<=20)or(Lpt2<=10): continue        \n",
    "    #filtering the good muons    \n",
    "    nGoodMuon = 0    \n",
    "    for j in range(0,t.nMuon):\n",
    "        #relative isolation\n",
    "        Mrellso = t.Muon_pfRelIso04_all[j]\n",
    "        if abs(Mrellso) >= 0.4: continue\n",
    "        #transverse momentum \n",
    "        Mpt = t.Muon_pt[j]\n",
    "        if Mpt <= 5: continue\n",
    "        #pseudorapidity\n",
    "        Meta = t.Muon_eta[j]\n",
    "        if abs(Meta) >= 2.4: continue\n",
    "        #Transverse impact parameter\n",
    "        Mdxy = t.Muon_dxy[j]\n",
    "        if abs(Mdxy) >= 0.5: continue\n",
    "        #Longitudinal impact parameter\n",
    "        Mdz = t.Muon_dz[j]\n",
    "        if abs(Mdz) >= 1: continue\n",
    "        #3D impact significance\n",
    "        Msip = np.sqrt((Mdxy**2+Mdz**2)/(t.Muon_dxyErr[j]**2+t.Muon_dzErr[j]**2))\n",
    "        if Msip >= 4: continue\n",
    "        nGoodMuon += 1\n",
    "        totCharge += t.Muon_charge[j]\n",
    "        lepton = {\n",
    "            'pt' : Mpt,\n",
    "            'phi' : t.Muon_phi[j],\n",
    "            'eta' : Meta,\n",
    "            'mass' : t.Muon_mass[j],\n",
    "            'charge' : t.Muon_charge[j],\n",
    "        }\n",
    "        Leptons.append(lepton)    \n",
    "    if nGoodElectron + nGoodMuon != 4: continue \n",
    "    #2 muons have the opposite charge     \n",
    "    if totCharge != 0: continue  \n",
    "    Lpt1 = max(Leptons[2]['pt'],Leptons[3]['pt'])\n",
    "    Lpt2 = min(Leptons[2]['pt'],Leptons[3]['pt'])    \n",
    "    Zmass2 = invmass(Leptons[2:])  \n",
    "    if (compare(Zmass1,Zmass2)):\n",
    "        x = Zmass1\n",
    "        Zmass1 = Zmass2\n",
    "        Zmass2 = x\n",
    "    #if (Lpt1<=20)or(Lpt2<=10): continue    \n",
    "    if (Zmass1<40)or(Zmass1>120): continue\n",
    "    if (Zmass2<12)or(Zmass2>120): continue    \n",
    "    h_invmass2e2u.Fill(invmass(Leptons))\n",
    "c.Update()\n",
    "c.Draw()"
   ]
  },
  {
   "cell_type": "code",
   "execution_count": 10,
   "metadata": {},
   "outputs": [
    {
     "data": {
      "text/plain": [
       "731"
      ]
     },
     "execution_count": 10,
     "metadata": {},
     "output_type": "execute_result"
    }
   ],
   "source": [
    "outf = r.TFile.Open('data_histograms.root','RECREATE')\n",
    "outf.cd()\n",
    "h_invmass2e2u.Write()"
   ]
  },
  {
   "cell_type": "code",
   "execution_count": 11,
   "metadata": {},
   "outputs": [],
   "source": [
    "#Creating a histogram for 4u invmass\n",
    "h_invmass4u = r.TH1F('invmass4u','invmass4u',37,70,181)\n",
    "h_invmass4u.SetFillColor(0)\n",
    "h_invmass4u.SetLineColor(r.kRed)\n",
    "h_invmass4u.Sumw2()\n",
    "h_invmass4u.Draw()\n",
    "c.Update()"
   ]
  },
  {
   "cell_type": "code",
   "execution_count": 12,
   "metadata": {},
   "outputs": [],
   "source": [
    "def check(Leptons):\n",
    "    Pair = list()\n",
    "    AntiPair = list()\n",
    "    Pair.append(Leptons[0])\n",
    "    AntiPair.append(Leptons[1])\n",
    "    for j in range(2,4):\n",
    "        Pair.append(Leptons[j])\n",
    "        AntiPair.append(Leptons[5-j])\n",
    "        Zmass1 = invmass(Pair)\n",
    "        Zmass2 = invmass(AntiPair)\n",
    "        Lpt1 = max(Leptons[0]['pt'],Leptons[j]['pt'])\n",
    "        Lpt2 = min(Leptons[0]['pt'],Leptons[j]['pt'])\n",
    "        Lpt3 = max(Leptons[1]['pt'],Leptons[5-j]['pt'])\n",
    "        Lpt4 = min(Leptons[1]['pt'],Leptons[5-j]['pt'])\n",
    "        if (compare(Zmass1,Zmass2)):\n",
    "            x = Zmass1\n",
    "            Zmass1 = Zmass2\n",
    "            Zmass2 = x\n",
    "        if (Zmass1>=40)and(Zmass1<=120)and(Zmass2>=12)and(Zmass2<=120): \n",
    "            return True\n",
    "        Pair.remove(Leptons[j])\n",
    "        AntiPair.remove(Leptons[5-j])\n",
    "    return False  "
   ]
  },
  {
   "cell_type": "code",
   "execution_count": 13,
   "metadata": {},
   "outputs": [
    {
     "data": {
      "image/png": "[encoded data removed]",
      "text/plain": [
       "<IPython.core.display.Image object>"
      ]
     },
     "metadata": {},
     "output_type": "display_data"
    }
   ],
   "source": [
    "#selecting the 4u events\n",
    "for i in range(0,nEntries):\n",
    "    t.GetEntry(i)\n",
    "    Leptons = list()\n",
    "    totCharge = 0\n",
    "    #filtering the good muons    \n",
    "    nGoodMuon = 0    \n",
    "    for j in range(0,t.nMuon):\n",
    "        #relative isolation\n",
    "        Mrellso = t.Muon_pfRelIso04_all[j]\n",
    "        if abs(Mrellso) >= 0.4: continue\n",
    "        #transverse momentum \n",
    "        Mpt = t.Muon_pt[j]\n",
    "        if Mpt <= 5: continue\n",
    "        #pseudorapidity\n",
    "        Meta = t.Muon_eta[j]\n",
    "        if abs(Meta) >= 2.4: continue\n",
    "        #Transverse impact parameter\n",
    "        Mdxy = t.Muon_dxy[j]\n",
    "        if abs(Mdxy) >= 0.5: continue\n",
    "        #Longitudinal impact parameter\n",
    "        Mdz = t.Muon_dz[j]\n",
    "        if abs(Mdz) >= 1: continue\n",
    "        #3D impact significance\n",
    "        Msip = np.sqrt((Mdxy**2+Mdz**2)/(t.Muon_dxyErr[j]**2+t.Muon_dzErr[j]**2))\n",
    "        if Msip >= 4: continue\n",
    "        nGoodMuon += 1\n",
    "        totCharge += t.Muon_charge[j]\n",
    "        lepton = {\n",
    "            'pt' : Mpt,\n",
    "            'phi' : t.Muon_phi[j],\n",
    "            'eta' : Meta,\n",
    "            'mass' : t.Muon_mass[j],\n",
    "            'charge' : t.Muon_charge[j],\n",
    "        }\n",
    "        Leptons.append(lepton)\n",
    "    if nGoodMuon != 4: continue \n",
    "    if totCharge != 0: continue  \n",
    "    Leptons = sorted(Leptons, key = lambda j:j['charge'], reverse =True)\n",
    "    if (not check(Leptons)): continue\n",
    "    h_invmass4u.Fill(invmass(Leptons))  \n",
    "c.Update()\n",
    "c.Draw()"
   ]
  },
  {
   "cell_type": "code",
   "execution_count": 14,
   "metadata": {},
   "outputs": [
    {
     "data": {
      "text/plain": [
       "735"
      ]
     },
     "execution_count": 14,
     "metadata": {},
     "output_type": "execute_result"
    }
   ],
   "source": [
    "outf.cd()\n",
    "h_invmass4u.Write()"
   ]
  },
  {
   "cell_type": "code",
   "execution_count": 15,
   "metadata": {},
   "outputs": [
    {
     "name": "stdout",
     "output_type": "stream",
     "text": [
      "TFile**\t\tsamples/Run2012BC_DoubleElectron_skim_v2.root\t\n",
      " TFile*\t\tsamples/Run2012BC_DoubleElectron_skim_v2.root\t\n",
      "  KEY: TTree\tEvents;1\tEvents\n"
     ]
    }
   ],
   "source": [
    "#Opening the simulation ROOT file\n",
    "fsimu = r.TFile(\"samples/Run2012BC_DoubleElectron_skim_v2.root\")\n",
    "#listing the content of the file\n",
    "fsimu.ls()\n",
    "t = fsimu.Get(\"Events\")"
   ]
  },
  {
   "cell_type": "code",
   "execution_count": 16,
   "metadata": {},
   "outputs": [
    {
     "name": "stdout",
     "output_type": "stream",
     "text": [
      "703\n"
     ]
    }
   ],
   "source": [
    "#See how many events are there in this tree\n",
    "nEntries = t.GetEntries()\n",
    "print(nEntries)"
   ]
  },
  {
   "cell_type": "code",
   "execution_count": 17,
   "metadata": {},
   "outputs": [],
   "source": [
    "#Creating a histogram for 4e invmass\n",
    "h_invmass4eB = r.TH1F('invmass4eB','invmass4eB',37,70,181)\n",
    "h_invmass4eB.SetFillColor(0)\n",
    "h_invmass4eB.SetLineColor(r.kGreen)\n",
    "h_invmass4eB.Sumw2()\n",
    "h_invmass4eB.Draw()\n",
    "c.Update()"
   ]
  },
  {
   "cell_type": "code",
   "execution_count": 18,
   "metadata": {},
   "outputs": [
    {
     "data": {
      "image/png": "[encoded data removed]",
      "text/plain": [
       "<IPython.core.display.Image object>"
      ]
     },
     "metadata": {},
     "output_type": "display_data"
    }
   ],
   "source": [
    "#selecting the 4e events\n",
    "for i in range(0,nEntries):\n",
    "    t.GetEntry(i)\n",
    "    Leptons = list()\n",
    "    totCharge = 0\n",
    "    #filtering the good electrons\n",
    "    nGoodElectron = 0\n",
    "    for j in range(0,t.nElectron):\n",
    "        #relative isolation\n",
    "        Erellso = t.Electron_pfRelIso03_all[j]\n",
    "        if abs(Erellso) >= 0.4: continue\n",
    "        #transverse momentum \n",
    "        Ept = t.Electron_pt[j]\n",
    "        if Ept <= 7: continue\n",
    "        #pseudorapidity\n",
    "        Eeta = t.Electron_eta[j]\n",
    "        if abs(Eeta) >= 2.5: continue\n",
    "        #Transverse impact parameter\n",
    "        Edxy = t.Electron_dxy[j]\n",
    "        if abs(Edxy) >= 0.5: continue\n",
    "        #Longitudinal impact parameter\n",
    "        Edz = t.Electron_dz[j]\n",
    "        if abs(Edz) >= 1: continue\n",
    "        #3D impact significance\n",
    "        Esip = np.sqrt((Edxy**2+Edz**2)/(t.Electron_dxyErr[j]**2+t.Electron_dzErr[j]**2))\n",
    "        if Esip >= 4: continue\n",
    "        nGoodElectron += 1\n",
    "        totCharge += t.Electron_charge[j]\n",
    "        lepton = {\n",
    "            'pt' : Ept,\n",
    "            'phi' : t.Electron_phi[j],\n",
    "            'eta' : Eeta,\n",
    "            'mass' : t.Electron_mass[j],\n",
    "            'charge' : t.Electron_charge[j],\n",
    "        }\n",
    "        Leptons.append(lepton)   \n",
    "    if nGoodElectron != 4: continue\n",
    "    if totCharge != 0: continue  \n",
    "    Leptons = sorted(Leptons, key = lambda j:j['charge'], reverse =True)\n",
    "    if (not check(Leptons)): continue\n",
    "    h_invmass4eB.Fill(invmass(Leptons))  \n",
    "c.Update()\n",
    "c.Draw()"
   ]
  },
  {
   "cell_type": "code",
   "execution_count": 19,
   "metadata": {},
   "outputs": [
    {
     "data": {
      "text/plain": [
       "734"
      ]
     },
     "execution_count": 19,
     "metadata": {},
     "output_type": "execute_result"
    }
   ],
   "source": [
    "outf.cd()\n",
    "h_invmass4eB.Write()"
   ]
  },
  {
   "cell_type": "code",
   "execution_count": 20,
   "metadata": {},
   "outputs": [],
   "source": [
    "outf.Close()"
   ]
  },
  {
   "cell_type": "code",
   "execution_count": 21,
   "metadata": {},
   "outputs": [
    {
     "name": "stdout",
     "output_type": "stream",
     "text": [
      "TFile**\t\tdata_histograms.root\t\n",
      " TFile*\t\tdata_histograms.root\t\n",
      "  KEY: TH1F\tinvmass2e2u;1\tinvmass2e2u\n",
      "  KEY: TH1F\tinvmass4u;1\tinvmass4u\n",
      "  KEY: TH1F\tinvmass4eB;1\tinvmass4eB\n"
     ]
    }
   ],
   "source": [
    "inf = r.TFile(\"data_histograms.root\")\n",
    "inf.ls()"
   ]
  },
  {
   "cell_type": "code",
   "execution_count": 22,
   "metadata": {},
   "outputs": [],
   "source": [
    "DataTHS = r.THStack()"
   ]
  },
  {
   "cell_type": "code",
   "execution_count": 23,
   "metadata": {},
   "outputs": [
    {
     "data": {
      "image/png": "[encoded data removed]",
      "text/plain": [
       "<IPython.core.display.Image object>"
      ]
     },
     "metadata": {},
     "output_type": "display_data"
    }
   ],
   "source": [
    "DataTHS.Add(inf.Get('invmass4u'))\n",
    "DataTHS.Add(inf.Get('invmass2e2u'))\n",
    "DataTHS.Add(inf.Get('invmass4eB'))\n",
    "DataTHS.Draw()\n",
    "c.Update()\n",
    "c.Draw()"
   ]
  },
  {
   "cell_type": "code",
   "execution_count": null,
   "metadata": {},
   "outputs": [],
   "source": []
  }
 ],
 "metadata": {
  "kernelspec": {
   "display_name": "Python 2",
   "language": "python",
   "name": "python2"
  },
  "language_info": {
   "codemirror_mode": {
    "name": "ipython",
    "version": 2
   },
   "file_extension": ".py",
   "mimetype": "text/x-python",
   "name": "python",
   "nbconvert_exporter": "python",
   "pygments_lexer": "ipython2",
   "version": "2.7.15"
  }
 },
 "nbformat": 4,
 "nbformat_minor": 4
}
