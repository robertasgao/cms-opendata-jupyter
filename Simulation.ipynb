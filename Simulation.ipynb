{
 "cells": [
  {
   "cell_type": "code",
   "execution_count": 2,
   "metadata": {
    "scrolled": true
   },
   "outputs": [
    {
     "name": "stdout",
     "output_type": "stream",
     "text": [
      "Welcome to JupyROOT 6.22/00\n"
     ]
    }
   ],
   "source": [
    "import ROOT as r\n",
    "import numpy as np\n",
    "import math"
   ]
  },
  {
   "cell_type": "code",
   "execution_count": 2,
   "metadata": {},
   "outputs": [
    {
     "name": "stdout",
     "output_type": "stream",
     "text": [
      "TFile**\t\tsamples/ZZTo4mu_skim_v2.root\t\n",
      " TFile*\t\tsamples/ZZTo4mu_skim_v2.root\t\n",
      "  KEY: TTree\tEvents;2\tEvents\n",
      "  KEY: TTree\tEvents;1\tEvents\n"
     ]
    }
   ],
   "source": [
    "f = r.TFile(\"samples/ZZTo4mu_skim_v2.root\")\n",
    "f.ls()\n",
    "t = f.Get(\"Events\")"
   ]
  },
  {
   "cell_type": "code",
   "execution_count": 8,
   "metadata": {},
   "outputs": [
    {
     "name": "stderr",
     "output_type": "stream",
     "text": [
      "Warning in <TCanvas::Constructor>: Deleting canvas with same name: c1\n"
     ]
    }
   ],
   "source": [
    "c = r.TCanvas('c1','c1',800,600)"
   ]
  },
  {
   "cell_type": "code",
   "execution_count": 4,
   "metadata": {},
   "outputs": [
    {
     "name": "stdout",
     "output_type": "stream",
     "text": [
      "134109\n"
     ]
    }
   ],
   "source": [
    "nEntries = t.GetEntries()\n",
    "print(nEntries)"
   ]
  },
  {
   "cell_type": "code",
   "execution_count": 5,
   "metadata": {},
   "outputs": [
    {
     "name": "stdout",
     "output_type": "stream",
     "text": [
      "11480.0\n",
      "0.000815856119018\n"
     ]
    }
   ],
   "source": [
    "xsec = 7.6865000E-02*1.386\n",
    "nEvents = 1499064\n",
    "lumi = (4.42+7.06)*1000\n",
    "print(lumi)\n",
    "weight = lumi * xsec / nEvents\n",
    "print(weight)"
   ]
  },
  {
   "cell_type": "code",
   "execution_count": 6,
   "metadata": {},
   "outputs": [],
   "source": [
    "## write a function that computes the invariant mass given the event\n",
    "## the list version\n",
    "def invmass(Leptons):\n",
    "    m = 0\n",
    "    px = 0\n",
    "    py = 0\n",
    "    pz = 0\n",
    "    e = 0\n",
    "    for lep in Leptons:\n",
    "        px += lep['pt']*math.cos(lep['phi'])\n",
    "        py += lep['pt']*math.sin(lep['phi'])\n",
    "        theta = 2.*math.atan(np.exp(-lep['eta'])) \n",
    "        pz += lep['pt']/math.tan(theta)\n",
    "        e += np.sqrt(lep['pt']**2 + (lep['pt']/np.tan(theta))**2 + lep['mass']**2)\n",
    "    \n",
    "    m = np.sqrt(e**2 - px**2 - py**2 - pz**2)    \n",
    "    ## OR in the massless muon limit, the formula can be more compact:\n",
    "    #m  = np.sqrt(2*pt[0]*pt[1]*(np.cosh(eta[0]-eta[1])-np.cos(phi[0]-phi[1])))\n",
    "    return m"
   ]
  },
  {
   "cell_type": "code",
   "execution_count": 7,
   "metadata": {},
   "outputs": [],
   "source": [
    "#Creating a histogram for 4u invmass\n",
    "h_ZZto4mu = r.TH1F('ZZto4mu','ZZto4mu',37,70,181)\n",
    "h_ZZto4mu.SetFillColor(0)\n",
    "h_ZZto4mu.SetLineColor(r.kRed)\n",
    "h_ZZto4mu.Sumw2()\n",
    "h_ZZto4mu.Draw()\n",
    "c.Update()"
   ]
  },
  {
   "cell_type": "code",
   "execution_count": 8,
   "metadata": {},
   "outputs": [],
   "source": [
    "def compare(Zmass1,Zmass2):\n",
    "    d1 = abs(90-Zmass1)\n",
    "    d2 = abs(90-Zmass2)\n",
    "    if d1>d2: return True\n",
    "    return False"
   ]
  },
  {
   "cell_type": "code",
   "execution_count": 9,
   "metadata": {},
   "outputs": [],
   "source": [
    "def check(Leptons):\n",
    "    Pair = list()\n",
    "    AntiPair = list()\n",
    "    Pair.append(Leptons[0])\n",
    "    AntiPair.append(Leptons[1])\n",
    "    for j in range(2,4):\n",
    "        Pair.append(Leptons[j])\n",
    "        AntiPair.append(Leptons[5-j])\n",
    "        Zmass1 = invmass(Pair)\n",
    "        Zmass2 = invmass(AntiPair)\n",
    "        Lpt1 = max(Leptons[0]['pt'],Leptons[j]['pt'])\n",
    "        Lpt2 = min(Leptons[0]['pt'],Leptons[j]['pt'])\n",
    "        Lpt3 = max(Leptons[1]['pt'],Leptons[5-j]['pt'])\n",
    "        Lpt4 = min(Leptons[1]['pt'],Leptons[5-j]['pt'])\n",
    "        if (compare(Zmass1,Zmass2)):\n",
    "            x = Zmass1\n",
    "            Zmass1 = Zmass2\n",
    "            Zmass2 = x\n",
    "        if (Zmass1>=40)and(Zmass1<=120)and(Zmass2>=12)and(Zmass2<=120): \n",
    "            return True\n",
    "        Pair.remove(Leptons[j])\n",
    "        AntiPair.remove(Leptons[5-j])\n",
    "    return False  "
   ]
  },
  {
   "cell_type": "code",
   "execution_count": 10,
   "metadata": {},
   "outputs": [
    {
     "data": {
      "image/png": "[encoded data removed]",
      "text/plain": [
       "<IPython.core.display.Image object>"
      ]
     },
     "metadata": {},
     "output_type": "display_data"
    }
   ],
   "source": [
    "#selecting the 4u events\n",
    "for i in range(0,nEntries):\n",
    "    t.GetEntry(i)\n",
    "    Leptons = list()\n",
    "    totCharge = 0\n",
    "    #filtering the good muons    \n",
    "    nGoodMuon = 0    \n",
    "    for j in range(0,t.nMuon):\n",
    "        #relative isolation\n",
    "        Mrellso = t.Muon_pfRelIso04_all[j]\n",
    "        if abs(Mrellso) >= 0.4: continue\n",
    "        #transverse momentum \n",
    "        Mpt = t.Muon_pt[j]\n",
    "        if Mpt <= 5: continue\n",
    "        #pseudorapidity\n",
    "        Meta = t.Muon_eta[j]\n",
    "        if abs(Meta) >= 2.4: continue\n",
    "        #Transverse impact parameter\n",
    "        Mdxy = t.Muon_dxy[j]\n",
    "        if abs(Mdxy) >= 0.5: continue\n",
    "        #Longitudinal impact parameter\n",
    "        Mdz = t.Muon_dz[j]\n",
    "        if abs(Mdz) >= 1: continue\n",
    "        #3D impact significance\n",
    "        Msip = np.sqrt((Mdxy**2+Mdz**2)/(t.Muon_dxyErr[j]**2+t.Muon_dzErr[j]**2))\n",
    "        if Msip >= 4: continue\n",
    "        nGoodMuon += 1\n",
    "        totCharge += t.Muon_charge[j]\n",
    "        lepton = {\n",
    "            'pt' : Mpt,\n",
    "            'phi' : t.Muon_phi[j],\n",
    "            'eta' : Meta,\n",
    "            'mass' : t.Muon_mass[j],\n",
    "            'charge' : t.Muon_charge[j],\n",
    "        }\n",
    "        Leptons.append(lepton)\n",
    "    if nGoodMuon != 4: continue \n",
    "    if totCharge != 0: continue  \n",
    "    Leptons = sorted(Leptons, key = lambda j:j['charge'], reverse =True)\n",
    "    if (not check(Leptons)): continue\n",
    "    h_ZZto4mu.Fill(invmass(Leptons),weight)  \n",
    "c.Update()\n",
    "c.Draw()"
   ]
  },
  {
   "cell_type": "code",
   "execution_count": 11,
   "metadata": {},
   "outputs": [
    {
     "data": {
      "text/plain": [
       "1141"
      ]
     },
     "execution_count": 11,
     "metadata": {},
     "output_type": "execute_result"
    }
   ],
   "source": [
    "outf = r.TFile.Open('simu_histograms.root','RECREATE')\n",
    "outf.cd()\n",
    "h_ZZto4mu.Write()"
   ]
  },
  {
   "cell_type": "code",
   "execution_count": 12,
   "metadata": {},
   "outputs": [
    {
     "name": "stdout",
     "output_type": "stream",
     "text": [
      "117621\n",
      "TFile**\t\tsamples/ZZTo4e_skim_v2.root\t\n",
      " TFile*\t\tsamples/ZZTo4e_skim_v2.root\t\n",
      "  KEY: TTree\tEvents;2\tEvents\n",
      "  KEY: TTree\tEvents;1\tEvents\n"
     ]
    }
   ],
   "source": [
    "f = r.TFile(\"samples/ZZTo4e_skim_v2.root\")\n",
    "f.ls()\n",
    "t = f.Get(\"Events\")\n",
    "nEntries = t.GetEntries()\n",
    "print(nEntries)"
   ]
  },
  {
   "cell_type": "code",
   "execution_count": 13,
   "metadata": {},
   "outputs": [],
   "source": [
    "#Creating a histogram\n",
    "h_ZZto4e = r.TH1F('ZZto4e','ZZto4e',37,70,181)\n",
    "h_ZZto4e.SetFillColor(0)\n",
    "h_ZZto4e.SetLineColor(r.kGreen)\n",
    "h_ZZto4e.Sumw2()\n",
    "h_ZZto4e.Draw()\n",
    "c.Update()"
   ]
  },
  {
   "cell_type": "code",
   "execution_count": 14,
   "metadata": {},
   "outputs": [
    {
     "name": "stdout",
     "output_type": "stream",
     "text": [
      "0.000819834361086\n"
     ]
    }
   ],
   "source": [
    "xsec = 7.7241300E-02*1.386\n",
    "nEvents = 1499093\n",
    "weight = lumi * xsec / nEvents\n",
    "print(weight)"
   ]
  },
  {
   "cell_type": "code",
   "execution_count": 15,
   "metadata": {},
   "outputs": [
    {
     "data": {
      "image/png": "[encoded data removed]",
      "text/plain": [
       "<IPython.core.display.Image object>"
      ]
     },
     "metadata": {},
     "output_type": "display_data"
    }
   ],
   "source": [
    "#selecting the 4e events\n",
    "for i in range(0,nEntries):\n",
    "    t.GetEntry(i)\n",
    "    Leptons = list()\n",
    "    totCharge = 0\n",
    "    #filtering the good electrons\n",
    "    nGoodElectron = 0\n",
    "    for j in range(0,t.nElectron):\n",
    "        #relative isolation\n",
    "        Erellso = t.Electron_pfRelIso03_all[j]\n",
    "        if abs(Erellso) >= 0.4: continue\n",
    "        #transverse momentum \n",
    "        Ept = t.Electron_pt[j]\n",
    "        if Ept <= 7: continue\n",
    "        #pseudorapidity\n",
    "        Eeta = t.Electron_eta[j]\n",
    "        if abs(Eeta) >= 2.5: continue\n",
    "        #Transverse impact parameter\n",
    "        Edxy = t.Electron_dxy[j]\n",
    "        if abs(Edxy) >= 0.5: continue\n",
    "        #Longitudinal impact parameter\n",
    "        Edz = t.Electron_dz[j]\n",
    "        if abs(Edz) >= 1: continue\n",
    "        #3D impact significance\n",
    "        Esip = np.sqrt((Edxy**2+Edz**2)/(t.Electron_dxyErr[j]**2+t.Electron_dzErr[j]**2))\n",
    "        if Esip >= 4: continue\n",
    "        nGoodElectron += 1\n",
    "        totCharge += t.Electron_charge[j]\n",
    "        lepton = {\n",
    "            'pt' : Ept,\n",
    "            'phi' : t.Electron_phi[j],\n",
    "            'eta' : Eeta,\n",
    "            'mass' : t.Electron_mass[j],\n",
    "            'charge' : t.Electron_charge[j],\n",
    "        }\n",
    "        Leptons.append(lepton)   \n",
    "    if nGoodElectron != 4: continue\n",
    "    if totCharge != 0: continue  \n",
    "    Leptons = sorted(Leptons, key = lambda j:j['charge'], reverse =True)\n",
    "    if (not check(Leptons)): continue\n",
    "    h_ZZto4e.Fill(invmass(Leptons),weight)  \n",
    "c.Update()\n",
    "c.Draw()"
   ]
  },
  {
   "cell_type": "code",
   "execution_count": 16,
   "metadata": {},
   "outputs": [
    {
     "data": {
      "text/plain": [
       "1111"
      ]
     },
     "execution_count": 16,
     "metadata": {},
     "output_type": "execute_result"
    }
   ],
   "source": [
    "outf.cd()\n",
    "h_ZZto4e.Write()"
   ]
  },
  {
   "cell_type": "code",
   "execution_count": 17,
   "metadata": {},
   "outputs": [
    {
     "name": "stdout",
     "output_type": "stream",
     "text": [
      "111075\n",
      "TFile**\t\tsamples/ZZTo2e2mu_skim_v2.root\t\n",
      " TFile*\t\tsamples/ZZTo2e2mu_skim_v2.root\t\n",
      "  KEY: TTree\tEvents;2\tEvents\n",
      "  KEY: TTree\tEvents;1\tEvents\n"
     ]
    }
   ],
   "source": [
    "f = r.TFile(\"samples/ZZTo2e2mu_skim_v2.root\")\n",
    "f.ls()\n",
    "t = f.Get(\"Events\")\n",
    "nEntries = t.GetEntries()\n",
    "print(nEntries)"
   ]
  },
  {
   "cell_type": "code",
   "execution_count": 18,
   "metadata": {},
   "outputs": [],
   "source": [
    "#Creating a histogram\n",
    "h_ZZto2e2mu = r.TH1F('ZZto2e2mu','ZZto2e2mu',37,70,181)\n",
    "h_ZZto2e2mu.SetFillColor(0)\n",
    "h_ZZto2e2mu.SetLineColor(r.kMagenta)\n",
    "h_ZZto2e2mu.Sumw2()\n",
    "h_ZZto2e2mu.Draw()\n",
    "c.Update()"
   ]
  },
  {
   "cell_type": "code",
   "execution_count": 19,
   "metadata": {},
   "outputs": [
    {
     "name": "stdout",
     "output_type": "stream",
     "text": [
      "11480.0\n",
      "0.00187611241361\n"
     ]
    }
   ],
   "source": [
    "xsec = 1.7656500E-01*1.386\n",
    "nEvents = 1497445\n",
    "print(lumi)\n",
    "weight = lumi * xsec / nEvents\n",
    "print(weight)"
   ]
  },
  {
   "cell_type": "code",
   "execution_count": 20,
   "metadata": {},
   "outputs": [
    {
     "data": {
      "image/png": "[encoded data removed]",
      "text/plain": [
       "<IPython.core.display.Image object>"
      ]
     },
     "metadata": {},
     "output_type": "display_data"
    }
   ],
   "source": [
    "#selecting the 2e2u events\n",
    "for i in range(0,nEntries):\n",
    "    t.GetEntry(i)\n",
    "    nGoodElectron = 0\n",
    "    Leptons = list()\n",
    "    totCharge = 0\n",
    "    #filtering the good electrons\n",
    "    for j in range(0,t.nElectron):\n",
    "        #relative isolation\n",
    "        Erellso = t.Electron_pfRelIso03_all[j]\n",
    "        if abs(Erellso) >= 0.4: continue\n",
    "        #transverse momentum \n",
    "        Ept = t.Electron_pt[j]\n",
    "        if Ept <= 7: continue\n",
    "        #pseudorapidity\n",
    "        Eeta = t.Electron_eta[j]\n",
    "        if abs(Eeta) >= 2.5: continue\n",
    "        #Transverse impact parameter\n",
    "        Edxy = t.Electron_dxy[j]\n",
    "        if abs(Edxy) >= 0.5: continue\n",
    "        #Longitudinal impact parameter\n",
    "        Edz = t.Electron_dz[j]\n",
    "        if abs(Edz) >= 1: continue\n",
    "        #3D impact significance\n",
    "        Esip = np.sqrt((Edxy**2+Edz**2)/(t.Electron_dxyErr[j]**2+t.Electron_dzErr[j]**2))\n",
    "        if Esip >= 4: continue\n",
    "        nGoodElectron += 1\n",
    "        totCharge += t.Electron_charge[j]\n",
    "        lepton = {\n",
    "            'pt' : Ept,\n",
    "            'phi' : t.Electron_phi[j],\n",
    "            'eta' : Eeta,\n",
    "            'mass' : t.Electron_mass[j],\n",
    "            'charge' : t.Electron_charge[j],\n",
    "        }\n",
    "        Leptons.append(lepton)       \n",
    "    if nGoodElectron != 2: continue\n",
    "    #2 electrons have the opposite charge    \n",
    "    if totCharge != 0: continue    \n",
    "    Zmass1 = invmass(Leptons)\n",
    "    Lpt1 = max(Leptons[0]['pt'],Leptons[1]['pt'])\n",
    "    Lpt2 = min(Leptons[0]['pt'],Leptons[1]['pt'])\n",
    "    #if (Lpt1<=20)or(Lpt2<=10): continue    \n",
    "    #filtering the good muons    \n",
    "    nGoodMuon = 0    \n",
    "    for j in range(0,t.nMuon):\n",
    "        #relative isolation\n",
    "        Mrellso = t.Muon_pfRelIso04_all[j]\n",
    "        if Mrellso >= 0.4: continue\n",
    "        #transverse momentum \n",
    "        Mpt = t.Muon_pt[j]\n",
    "        if Mpt <= 5: continue\n",
    "        #pseudorapidity\n",
    "        Meta = t.Muon_eta[j]\n",
    "        if abs(Meta) >= 2.4: continue\n",
    "        #Transverse impact parameter\n",
    "        Mdxy = t.Muon_dxy[j]\n",
    "        if abs(Mdxy) >= 0.5: continue\n",
    "        #Longitudinal impact parameter\n",
    "        Mdz = t.Muon_dz[j]\n",
    "        if abs(Mdz) >= 1: continue\n",
    "        #3D impact significance\n",
    "        Msip = np.sqrt((Mdxy / t.Muon_dxyErr[j]) ** 2 + (Mdz / t.Muon_dzErr[j]) ** 2)\n",
    "        if Msip >= 4: continue\n",
    "        nGoodMuon += 1\n",
    "        totCharge += t.Muon_charge[j]\n",
    "        lepton = {\n",
    "            'pt' : Mpt,\n",
    "            'phi' : t.Muon_phi[j],\n",
    "            'eta' : Meta,\n",
    "            'mass' : t.Muon_mass[j],\n",
    "            'charge' : t.Muon_charge[j],\n",
    "        }\n",
    "        Leptons.append(lepton)    \n",
    "    if nGoodElectron + nGoodMuon != 4: continue \n",
    "    #2 muons have the opposite charge     \n",
    "    if totCharge != 0: continue  \n",
    "    Lpt1 = max(Leptons[2]['pt'],Leptons[3]['pt'])\n",
    "    Lpt2 = min(Leptons[2]['pt'],Leptons[3]['pt'])\n",
    "    Zmass2 = invmass(Leptons[2:])  \n",
    "    if (compare(Zmass1,Zmass2)):\n",
    "        x = Zmass1\n",
    "        Zmass1 = Zmass2\n",
    "        Zmass2 = x\n",
    "    #if (Lpt1<=20)or(Lpt2<=10): continue    \n",
    "    if (Zmass1<40)or(Zmass1>120): continue\n",
    "    if (Zmass2<12)or(Zmass2>120): continue    \n",
    "    h_ZZto2e2mu.Fill(invmass(Leptons),weight)\n",
    "c.Update()\n",
    "c.Draw()"
   ]
  },
  {
   "cell_type": "code",
   "execution_count": 21,
   "metadata": {},
   "outputs": [
    {
     "data": {
      "text/plain": [
       "1135"
      ]
     },
     "execution_count": 21,
     "metadata": {},
     "output_type": "execute_result"
    }
   ],
   "source": [
    "outf.cd()\n",
    "h_ZZto2e2mu.Write()"
   ]
  },
  {
   "cell_type": "code",
   "execution_count": 22,
   "metadata": {},
   "outputs": [
    {
     "name": "stdout",
     "output_type": "stream",
     "text": [
      "628\n",
      "TFile**\t\tsamples/DYJetsToLL_skim_v2.root\t\n",
      " TFile*\t\tsamples/DYJetsToLL_skim_v2.root\t\n",
      "  KEY: TTree\tEvents;2\tEvents\n",
      "  KEY: TTree\tEvents;1\tEvents\n"
     ]
    }
   ],
   "source": [
    "f = r.TFile(\"samples/DYJetsToLL_skim_v2.root\")\n",
    "f.ls()\n",
    "t = f.Get(\"Events\")\n",
    "nEntries = t.GetEntries()\n",
    "print(nEntries)"
   ]
  },
  {
   "cell_type": "code",
   "execution_count": 23,
   "metadata": {},
   "outputs": [],
   "source": [
    "#Creating a histogram\n",
    "h_DYJets = r.TH1F('DYJets','DYJets',37,70,181)\n",
    "h_DYJets.SetFillColor(0)\n",
    "h_DYJets.SetLineColor(r.kOrange)\n",
    "h_DYJets.Sumw2()\n",
    "h_DYJets.Draw()\n",
    "c.Update()"
   ]
  },
  {
   "cell_type": "code",
   "execution_count": 24,
   "metadata": {},
   "outputs": [
    {
     "name": "stdout",
     "output_type": "stream",
     "text": [
      "11480.0\n",
      "1.05168582565\n"
     ]
    }
   ],
   "source": [
    "xsec = 2.7903452E+03\n",
    "nEvents = 30458871\n",
    "print(lumi)\n",
    "weight = lumi * xsec / nEvents\n",
    "print(weight)"
   ]
  },
  {
   "cell_type": "code",
   "execution_count": 25,
   "metadata": {},
   "outputs": [
    {
     "data": {
      "image/png": "[encoded data removed]",
      "text/plain": [
       "<IPython.core.display.Image object>"
      ]
     },
     "metadata": {},
     "output_type": "display_data"
    }
   ],
   "source": [
    "#selecting the 4u events\n",
    "for i in range(0,nEntries):\n",
    "    t.GetEntry(i)\n",
    "    Leptons = list()\n",
    "    totCharge = 0\n",
    "    #filtering the good muons    \n",
    "    nGoodMuon = 0    \n",
    "    for j in range(0,t.nMuon):\n",
    "        #relative isolation\n",
    "        Mrellso = t.Muon_pfRelIso04_all[j]\n",
    "        if abs(Mrellso) >= 0.4: continue\n",
    "        #transverse momentum \n",
    "        Mpt = t.Muon_pt[j]\n",
    "        if Mpt <= 5: continue\n",
    "        #pseudorapidity\n",
    "        Meta = t.Muon_eta[j]\n",
    "        if abs(Meta) >= 2.4: continue\n",
    "        #Transverse impact parameter\n",
    "        Mdxy = t.Muon_dxy[j]\n",
    "        if abs(Mdxy) >= 0.5: continue\n",
    "        #Longitudinal impact parameter\n",
    "        Mdz = t.Muon_dz[j]\n",
    "        if abs(Mdz) >= 1: continue\n",
    "        #3D impact significance\n",
    "        Msip = np.sqrt((Mdxy**2+Mdz**2)/(t.Muon_dxyErr[j]**2+t.Muon_dzErr[j]**2))\n",
    "        if Msip >= 4: continue\n",
    "        nGoodMuon += 1\n",
    "        totCharge += t.Muon_charge[j]\n",
    "        lepton = {\n",
    "            'pt' : Mpt,\n",
    "            'phi' : t.Muon_phi[j],\n",
    "            'eta' : Meta,\n",
    "            'mass' : t.Muon_mass[j],\n",
    "            'charge' : t.Muon_charge[j],\n",
    "        }\n",
    "        Leptons.append(lepton)\n",
    "    if nGoodMuon != 4: continue \n",
    "    if totCharge != 0: continue  \n",
    "    Leptons = sorted(Leptons, key = lambda j:j['charge'], reverse =True)\n",
    "    if (not check(Leptons)): continue\n",
    "    h_DYJets.Fill(invmass(Leptons),weight)  \n",
    "c.Update()\n",
    "c.Draw()"
   ]
  },
  {
   "cell_type": "code",
   "execution_count": 26,
   "metadata": {},
   "outputs": [
    {
     "data": {
      "image/png": "[encoded data removed]",
      "text/plain": [
       "<IPython.core.display.Image object>"
      ]
     },
     "metadata": {},
     "output_type": "display_data"
    }
   ],
   "source": [
    "#selecting the 4e events\n",
    "for i in range(0,nEntries):\n",
    "    t.GetEntry(i)\n",
    "    Leptons = list()\n",
    "    totCharge = 0\n",
    "    #filtering the good electrons\n",
    "    nGoodElectron = 0\n",
    "    for j in range(0,t.nElectron):\n",
    "        #relative isolation\n",
    "        Erellso = t.Electron_pfRelIso03_all[j]\n",
    "        if abs(Erellso) >= 0.4: continue\n",
    "        #transverse momentum \n",
    "        Ept = t.Electron_pt[j]\n",
    "        if Ept <= 7: continue\n",
    "        #pseudorapidity\n",
    "        Eeta = t.Electron_eta[j]\n",
    "        if abs(Eeta) >= 2.5: continue\n",
    "        #Transverse impact parameter\n",
    "        Edxy = t.Electron_dxy[j]\n",
    "        if abs(Edxy) >= 0.5: continue\n",
    "        #Longitudinal impact parameter\n",
    "        Edz = t.Electron_dz[j]\n",
    "        if abs(Edz) >= 1: continue\n",
    "        #3D impact significance\n",
    "        Esip = np.sqrt((Edxy**2+Edz**2)/(t.Electron_dxyErr[j]**2+t.Electron_dzErr[j]**2))\n",
    "        if Esip >= 4: continue\n",
    "        nGoodElectron += 1\n",
    "        totCharge += t.Electron_charge[j]\n",
    "        lepton = {\n",
    "            'pt' : Ept,\n",
    "            'phi' : t.Electron_phi[j],\n",
    "            'eta' : Eeta,\n",
    "            'mass' : t.Electron_mass[j],\n",
    "            'charge' : t.Electron_charge[j],\n",
    "        }\n",
    "        Leptons.append(lepton)   \n",
    "    if nGoodElectron != 4: continue\n",
    "    if totCharge != 0: continue  \n",
    "    Leptons = sorted(Leptons, key = lambda j:j['charge'], reverse =True)\n",
    "    if (not check(Leptons)): continue\n",
    "    h_DYJets.Fill(invmass(Leptons),weight)  \n",
    "c.Update()\n",
    "c.Draw()"
   ]
  },
  {
   "cell_type": "code",
   "execution_count": 27,
   "metadata": {},
   "outputs": [
    {
     "data": {
      "image/png": "[encoded data removed]",
      "text/plain": [
       "<IPython.core.display.Image object>"
      ]
     },
     "metadata": {},
     "output_type": "display_data"
    }
   ],
   "source": [
    "#selecting the 2e2u events\n",
    "for i in range(0,nEntries):\n",
    "    t.GetEntry(i)\n",
    "    nGoodElectron = 0\n",
    "    Leptons = list()\n",
    "    totCharge = 0\n",
    "    #filtering the good electrons\n",
    "    for j in range(0,t.nElectron):\n",
    "        #relative isolation\n",
    "        Erellso = t.Electron_pfRelIso03_all[j]\n",
    "        if abs(Erellso) >= 0.4: continue\n",
    "        #transverse momentum \n",
    "        Ept = t.Electron_pt[j]\n",
    "        if Ept <= 7: continue\n",
    "        #pseudorapidity\n",
    "        Eeta = t.Electron_eta[j]\n",
    "        if abs(Eeta) >= 2.5: continue\n",
    "        #Transverse impact parameter\n",
    "        Edxy = t.Electron_dxy[j]\n",
    "        if abs(Edxy) >= 0.5: continue\n",
    "        #Longitudinal impact parameter\n",
    "        Edz = t.Electron_dz[j]\n",
    "        if abs(Edz) >= 1: continue\n",
    "        #3D impact significance\n",
    "        Esip = np.sqrt((Edxy**2+Edz**2)/(t.Electron_dxyErr[j]**2+t.Electron_dzErr[j]**2))\n",
    "        if Esip >= 4: continue\n",
    "        nGoodElectron += 1\n",
    "        totCharge += t.Electron_charge[j]\n",
    "        lepton = {\n",
    "            'pt' : Ept,\n",
    "            'phi' : t.Electron_phi[j],\n",
    "            'eta' : Eeta,\n",
    "            'mass' : t.Electron_mass[j],\n",
    "            'charge' : t.Electron_charge[j],\n",
    "        }\n",
    "        Leptons.append(lepton)       \n",
    "    if nGoodElectron != 2: continue\n",
    "    #2 electrons have the opposite charge    \n",
    "    if totCharge != 0: continue    \n",
    "    Zmass1 = invmass(Leptons)\n",
    "    Lpt1 = max(Leptons[0]['pt'],Leptons[1]['pt'])\n",
    "    Lpt2 = min(Leptons[0]['pt'],Leptons[1]['pt'])\n",
    "    #if (Lpt1<=20)or(Lpt2<=10): continue    \n",
    "    #filtering the good muons    \n",
    "    nGoodMuon = 0    \n",
    "    for j in range(0,t.nMuon):\n",
    "        #relative isolation\n",
    "        Mrellso = t.Muon_pfRelIso04_all[j]\n",
    "        if abs(Mrellso) >= 0.4: continue\n",
    "        #transverse momentum \n",
    "        Mpt = t.Muon_pt[j]\n",
    "        if Mpt <= 5: continue\n",
    "        #pseudorapidity\n",
    "        Meta = t.Muon_eta[j]\n",
    "        if abs(Meta) >= 2.4: continue\n",
    "        #Transverse impact parameter\n",
    "        Mdxy = t.Muon_dxy[j]\n",
    "        if abs(Mdxy) >= 0.5: continue\n",
    "        #Longitudinal impact parameter\n",
    "        Mdz = t.Muon_dz[j]\n",
    "        if abs(Mdz) >= 1: continue\n",
    "        #3D impact significance\n",
    "        Msip = np.sqrt((Mdxy**2+Mdz**2)/(t.Muon_dxyErr[j]**2+t.Muon_dzErr[j]**2))\n",
    "        if Msip >= 4: continue\n",
    "        nGoodMuon += 1\n",
    "        totCharge += t.Muon_charge[j]\n",
    "        lepton = {\n",
    "            'pt' : Mpt,\n",
    "            'phi' : t.Muon_phi[j],\n",
    "            'eta' : Meta,\n",
    "            'mass' : t.Muon_mass[j],\n",
    "            'charge' : t.Muon_charge[j],\n",
    "        }\n",
    "        Leptons.append(lepton)    \n",
    "    if nGoodElectron + nGoodMuon != 4: continue \n",
    "    #2 muons have the opposite charge     \n",
    "    if totCharge != 0: continue  \n",
    "    Zmass2 = invmass(Leptons[2:]) \n",
    "    Lpt1 = max(Leptons[2]['pt'],Leptons[3]['pt'])\n",
    "    Lpt2 = min(Leptons[2]['pt'],Leptons[3]['pt'])\n",
    "    if (compare(Zmass1,Zmass2)):\n",
    "        x = Zmass1\n",
    "        Zmass1 = Zmass2\n",
    "        Zmass2 = x\n",
    "    #if (Lpt1<=20)or(Lpt2<=10): continue    \n",
    "    if (Zmass1<40)or(Zmass1>120): continue\n",
    "    if (Zmass2<12)or(Zmass2>120): continue    \n",
    "    h_DYJets.Fill(invmass(Leptons),weight)\n",
    "c.Update()\n",
    "c.Draw()"
   ]
  },
  {
   "cell_type": "code",
   "execution_count": 28,
   "metadata": {},
   "outputs": [
    {
     "data": {
      "text/plain": [
       "727"
      ]
     },
     "execution_count": 28,
     "metadata": {},
     "output_type": "execute_result"
    }
   ],
   "source": [
    "outf.cd()\n",
    "h_DYJets.Write()"
   ]
  },
  {
   "cell_type": "code",
   "execution_count": 29,
   "metadata": {},
   "outputs": [
    {
     "name": "stdout",
     "output_type": "stream",
     "text": [
      "39807\n",
      "TFile**\t\tsamples/SMHiggsToZZTo4L_skim_v2.root\t\n",
      " TFile*\t\tsamples/SMHiggsToZZTo4L_skim_v2.root\t\n",
      "  KEY: TTree\tEvents;2\tEvents\n",
      "  KEY: TTree\tEvents;1\tEvents\n"
     ]
    }
   ],
   "source": [
    "f = r.TFile(\"samples/SMHiggsToZZTo4L_skim_v2.root\")\n",
    "f.ls()\n",
    "t = f.Get(\"Events\")\n",
    "nEntries = t.GetEntries()\n",
    "print(nEntries)"
   ]
  },
  {
   "cell_type": "code",
   "execution_count": 30,
   "metadata": {},
   "outputs": [],
   "source": [
    "#Creating a histogram\n",
    "h_Higgs = r.TH1F('Higgs','Higgs',37,70,181)\n",
    "h_Higgs.SetFillColor(0)\n",
    "h_Higgs.SetLineColor(r.kBlack)\n",
    "h_Higgs.Sumw2()\n",
    "h_Higgs.Draw()\n",
    "c.Update()"
   ]
  },
  {
   "cell_type": "code",
   "execution_count": 31,
   "metadata": {},
   "outputs": [
    {
     "name": "stdout",
     "output_type": "stream",
     "text": [
      "11480.0\n",
      "0.000248755721348\n"
     ]
    }
   ],
   "source": [
    "xsec = 0.0065\n",
    "nEvents = 299973\n",
    "print(lumi)\n",
    "weight = lumi * xsec / nEvents\n",
    "print(weight)"
   ]
  },
  {
   "cell_type": "code",
   "execution_count": 32,
   "metadata": {},
   "outputs": [
    {
     "data": {
      "image/png": "[encoded data removed]",
      "text/plain": [
       "<IPython.core.display.Image object>"
      ]
     },
     "metadata": {},
     "output_type": "display_data"
    }
   ],
   "source": [
    "#selecting the 4u events\n",
    "for i in range(0,nEntries):\n",
    "    t.GetEntry(i)\n",
    "    Leptons = list()\n",
    "    totCharge = 0\n",
    "    #filtering the good muons    \n",
    "    nGoodMuon = 0    \n",
    "    for j in range(0,t.nMuon):\n",
    "        #relative isolation\n",
    "        Mrellso = t.Muon_pfRelIso04_all[j]\n",
    "        if abs(Mrellso) >= 0.4: continue\n",
    "        #transverse momentum \n",
    "        Mpt = t.Muon_pt[j]\n",
    "        if Mpt <= 5: continue\n",
    "        #pseudorapidity\n",
    "        Meta = t.Muon_eta[j]\n",
    "        if abs(Meta) >= 2.4: continue\n",
    "        #Transverse impact parameter\n",
    "        Mdxy = t.Muon_dxy[j]\n",
    "        if abs(Mdxy) >= 0.5: continue\n",
    "        #Longitudinal impact parameter\n",
    "        Mdz = t.Muon_dz[j]\n",
    "        if abs(Mdz) >= 1: continue\n",
    "        #3D impact significance\n",
    "        Msip = np.sqrt((Mdxy**2+Mdz**2)/(t.Muon_dxyErr[j]**2+t.Muon_dzErr[j]**2))\n",
    "        if Msip >= 4: continue\n",
    "        nGoodMuon += 1\n",
    "        totCharge += t.Muon_charge[j]\n",
    "        lepton = {\n",
    "            'pt' : Mpt,\n",
    "            'phi' : t.Muon_phi[j],\n",
    "            'eta' : Meta,\n",
    "            'mass' : t.Muon_mass[j],\n",
    "            'charge' : t.Muon_charge[j],\n",
    "        }\n",
    "        Leptons.append(lepton)\n",
    "    if nGoodMuon != 4: continue \n",
    "    if totCharge != 0: continue  \n",
    "    Leptons = sorted(Leptons, key = lambda j:j['charge'], reverse =True)\n",
    "    if (not check(Leptons)): continue\n",
    "    h_Higgs.Fill(invmass(Leptons),weight)  \n",
    "c.Update()\n",
    "c.Draw()"
   ]
  },
  {
   "cell_type": "code",
   "execution_count": 33,
   "metadata": {},
   "outputs": [
    {
     "data": {
      "image/png": "[encoded data removed]",
      "text/plain": [
       "<IPython.core.display.Image object>"
      ]
     },
     "metadata": {},
     "output_type": "display_data"
    }
   ],
   "source": [
    "#selecting the 4e events\n",
    "for i in range(0,nEntries):\n",
    "    t.GetEntry(i)\n",
    "    Leptons = list()\n",
    "    totCharge = 0\n",
    "    #filtering the good electrons\n",
    "    nGoodElectron = 0\n",
    "    for j in range(0,t.nElectron):\n",
    "        #relative isolation\n",
    "        Erellso = t.Electron_pfRelIso03_all[j]\n",
    "        if abs(Erellso) >= 0.4: continue\n",
    "        #transverse momentum \n",
    "        Ept = t.Electron_pt[j]\n",
    "        if Ept <= 7: continue\n",
    "        #pseudorapidity\n",
    "        Eeta = t.Electron_eta[j]\n",
    "        if abs(Eeta) >= 2.5: continue\n",
    "        #Transverse impact parameter\n",
    "        Edxy = t.Electron_dxy[j]\n",
    "        if abs(Edxy) >= 0.5: continue\n",
    "        #Longitudinal impact parameter\n",
    "        Edz = t.Electron_dz[j]\n",
    "        if abs(Edz) >= 1: continue\n",
    "        #3D impact significance\n",
    "        Esip = np.sqrt((Edxy**2+Edz**2)/(t.Electron_dxyErr[j]**2+t.Electron_dzErr[j]**2))\n",
    "        if Esip >= 4: continue\n",
    "        nGoodElectron += 1\n",
    "        totCharge += t.Electron_charge[j]\n",
    "        lepton = {\n",
    "            'pt' : Ept,\n",
    "            'phi' : t.Electron_phi[j],\n",
    "            'eta' : Eeta,\n",
    "            'mass' : t.Electron_mass[j],\n",
    "            'charge' : t.Electron_charge[j],\n",
    "        }\n",
    "        Leptons.append(lepton)   \n",
    "    if nGoodElectron != 4: continue\n",
    "    if totCharge != 0: continue  \n",
    "    Leptons = sorted(Leptons, key = lambda j:j['charge'], reverse =True)\n",
    "    if (not check(Leptons)): continue\n",
    "    h_Higgs.Fill(invmass(Leptons),weight)  \n",
    "c.Update()\n",
    "c.Draw()"
   ]
  },
  {
   "cell_type": "code",
   "execution_count": 34,
   "metadata": {},
   "outputs": [
    {
     "data": {
      "image/png": "[encoded data removed]",
      "text/plain": [
       "<IPython.core.display.Image object>"
      ]
     },
     "metadata": {},
     "output_type": "display_data"
    }
   ],
   "source": [
    "#selecting the 2e2u events\n",
    "for i in range(0,nEntries):\n",
    "    t.GetEntry(i)\n",
    "    nGoodElectron = 0\n",
    "    Leptons = list()\n",
    "    totCharge = 0\n",
    "    #filtering the good electrons\n",
    "    for j in range(0,t.nElectron):\n",
    "        #relative isolation\n",
    "        Erellso = t.Electron_pfRelIso03_all[j]\n",
    "        if abs(Erellso) >= 0.4: continue\n",
    "        #transverse momentum \n",
    "        Ept = t.Electron_pt[j]\n",
    "        if Ept <= 7: continue\n",
    "        #pseudorapidity\n",
    "        Eeta = t.Electron_eta[j]\n",
    "        if abs(Eeta) >= 2.5: continue\n",
    "        #Transverse impact parameter\n",
    "        Edxy = t.Electron_dxy[j]\n",
    "        if abs(Edxy) >= 0.5: continue\n",
    "        #Longitudinal impact parameter\n",
    "        Edz = t.Electron_dz[j]\n",
    "        if abs(Edz) >= 1: continue\n",
    "        #3D impact significance\n",
    "        Esip = np.sqrt((Edxy**2+Edz**2)/(t.Electron_dxyErr[j]**2+t.Electron_dzErr[j]**2))\n",
    "        if Esip >= 4: continue\n",
    "        nGoodElectron += 1\n",
    "        totCharge += t.Electron_charge[j]\n",
    "        lepton = {\n",
    "            'pt' : Ept,\n",
    "            'phi' : t.Electron_phi[j],\n",
    "            'eta' : Eeta,\n",
    "            'mass' : t.Electron_mass[j],\n",
    "            'charge' : t.Electron_charge[j],\n",
    "        }\n",
    "        Leptons.append(lepton)       \n",
    "    if nGoodElectron != 2: continue\n",
    "    #2 electrons have the opposite charge    \n",
    "    if totCharge != 0: continue    \n",
    "    Zmass1 = invmass(Leptons)\n",
    "    Lpt1 = max(Leptons[0]['pt'],Leptons[1]['pt'])\n",
    "    Lpt2 = min(Leptons[0]['pt'],Leptons[1]['pt'])\n",
    "    #if (Lpt1<=20)or(Lpt2<=10): continue        \n",
    "    #filtering the good muons    \n",
    "    nGoodMuon = 0    \n",
    "    for j in range(0,t.nMuon):\n",
    "        #relative isolation\n",
    "        Mrellso = t.Muon_pfRelIso04_all[j]\n",
    "        if abs(Mrellso) >= 0.4: continue\n",
    "        #transverse momentum \n",
    "        Mpt = t.Muon_pt[j]\n",
    "        if Mpt <= 5: continue\n",
    "        #pseudorapidity\n",
    "        Meta = t.Muon_eta[j]\n",
    "        if abs(Meta) >= 2.4: continue\n",
    "        #Transverse impact parameter\n",
    "        Mdxy = t.Muon_dxy[j]\n",
    "        if abs(Mdxy) >= 0.5: continue\n",
    "        #Longitudinal impact parameter\n",
    "        Mdz = t.Muon_dz[j]\n",
    "        if abs(Mdz) >= 1: continue\n",
    "        #3D impact significance\n",
    "        Msip = np.sqrt((Mdxy**2+Mdz**2)/(t.Muon_dxyErr[j]**2+t.Muon_dzErr[j]**2))\n",
    "        if Msip >= 4: continue\n",
    "        nGoodMuon += 1\n",
    "        totCharge += t.Muon_charge[j]\n",
    "        lepton = {\n",
    "            'pt' : Mpt,\n",
    "            'phi' : t.Muon_phi[j],\n",
    "            'eta' : Meta,\n",
    "            'mass' : t.Muon_mass[j],\n",
    "            'charge' : t.Muon_charge[j],\n",
    "        }\n",
    "        Leptons.append(lepton)    \n",
    "    if nGoodElectron + nGoodMuon != 4: continue \n",
    "    #2 muons have the opposite charge     \n",
    "    if totCharge != 0: continue  \n",
    "    Zmass2 = invmass(Leptons[2:])\n",
    "    Lpt1 = max(Leptons[2]['pt'],Leptons[3]['pt'])\n",
    "    Lpt2 = min(Leptons[2]['pt'],Leptons[3]['pt'])\n",
    "    if (compare(Zmass1,Zmass2)):\n",
    "        x = Zmass1\n",
    "        Zmass1 = Zmass2\n",
    "        Zmass2 = x\n",
    "    #if (Lpt1<=20)or(Lpt2<=10): continue    \n",
    "    if (Zmass1<40)or(Zmass1>120): continue\n",
    "    if (Zmass2<12)or(Zmass2>120): continue    \n",
    "    h_Higgs.Fill(invmass(Leptons),weight)\n",
    "c.Update()\n",
    "c.Draw()"
   ]
  },
  {
   "cell_type": "code",
   "execution_count": 35,
   "metadata": {},
   "outputs": [],
   "source": [
    "outf.cd()\n",
    "h_Higgs.Write()\n",
    "outf.Close()"
   ]
  },
  {
   "cell_type": "code",
   "execution_count": 3,
   "metadata": {},
   "outputs": [
    {
     "name": "stdout",
     "output_type": "stream",
     "text": [
      "TFile**\t\tsimu_histograms.root\t\n",
      " TFile*\t\tsimu_histograms.root\t\n",
      "  KEY: TH1F\tZZto4mu;1\tZZto4mu\n",
      "  KEY: TH1F\tZZto4e;1\tZZto4e\n",
      "  KEY: TH1F\tZZto2e2mu;1\tZZto2e2mu\n",
      "  KEY: TH1F\tDYJets;1\tDYJets\n",
      "  KEY: TH1F\tHiggs;1\tHiggs\n"
     ]
    }
   ],
   "source": [
    "inf = r.TFile(\"simu_histograms.root\")\n",
    "inf.ls()"
   ]
  },
  {
   "cell_type": "code",
   "execution_count": 12,
   "metadata": {},
   "outputs": [],
   "source": [
    "SimuTHS = r.THStack()"
   ]
  },
  {
   "cell_type": "code",
   "execution_count": 44,
   "metadata": {},
   "outputs": [
    {
     "data": {
      "image/png": "[encoded data removed]",
      "text/plain": [
       "<IPython.core.display.Image object>"
      ]
     },
     "metadata": {},
     "output_type": "display_data"
    }
   ],
   "source": [
    "#SimuTHS.Add(inf.Get('DYJets'))\n",
    "#c.Update()\n",
    "#c.Draw()"
   ]
  },
  {
   "cell_type": "code",
   "execution_count": 13,
   "metadata": {},
   "outputs": [
    {
     "data": {
      "image/png": "[encoded data removed]",
      "text/plain": [
       "<IPython.core.display.Image object>"
      ]
     },
     "metadata": {},
     "output_type": "display_data"
    }
   ],
   "source": [
    "h_ZZto2e2mu = inf.Get('ZZto2e2mu')\n",
    "leg = r.TLegend(0.77,0.77,1,1)\n",
    "leg.AddEntry(h_ZZto2e2mu,'ZZto2e2mu')\n",
    "SimuTHS.Add(h_ZZto2e2mu)\n",
    "h_ZZto4mu = inf.Get('ZZto4mu')\n",
    "leg.AddEntry(h_ZZto4mu,'ZZto4mu')\n",
    "SimuTHS.Add(h_ZZto4mu)\n",
    "h_ZZto4e = inf.Get('ZZto4e')\n",
    "leg.AddEntry(h_ZZto4e,'ZZto4e')\n",
    "SimuTHS.Add(h_ZZto4e)\n",
    "h_Higgs = inf.Get('Higgs')\n",
    "leg.AddEntry(h_Higgs,'Higgs')\n",
    "SimuTHS.Add(h_Higgs)\n",
    "h_Higgs.GetYaxis().SetTitle('Events/3GeV')\n",
    "h_Higgs.GetXaxis().SetTitle('M_{4l}[GeV]')\n",
    "h_Higgs.SetTitle('')\n",
    "SimuTHS.Draw()\n",
    "leg.Draw('same')\n",
    "c.Update()\n",
    "c.Draw()"
   ]
  },
  {
   "cell_type": "code",
   "execution_count": null,
   "metadata": {},
   "outputs": [],
   "source": []
  }
 ],
 "metadata": {
  "kernelspec": {
   "display_name": "Python 2",
   "language": "python",
   "name": "python2"
  },
  "language_info": {
   "codemirror_mode": {
    "name": "ipython",
    "version": 2
   },
   "file_extension": ".py",
   "mimetype": "text/x-python",
   "name": "python",
   "nbconvert_exporter": "python",
   "pygments_lexer": "ipython2",
   "version": "2.7.15"
  }
 },
 "nbformat": 4,
 "nbformat_minor": 4
}
