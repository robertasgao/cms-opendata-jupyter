{
 "cells": [
  {
   "cell_type": "code",
   "execution_count": 1,
   "metadata": {},
   "outputs": [
    {
     "name": "stdout",
     "output_type": "stream",
     "text": [
      "Welcome to JupyROOT 6.22/00\n"
     ]
    }
   ],
   "source": [
    "#Initiating Packages\n",
    "import ROOT as r\n",
    "import numpy as np\n",
    "import math"
   ]
  },
  {
   "cell_type": "code",
   "execution_count": 6,
   "metadata": {},
   "outputs": [
    {
     "name": "stdout",
     "output_type": "stream",
     "text": [
      "TFile**\t\tsamples/SMHiggsToZZTo4L_skim.root\t\n",
      " TFile*\t\tsamples/SMHiggsToZZTo4L_skim.root\t\n",
      "  KEY: TTree\tEvents;2\tEvents\n",
      "  KEY: TTree\tEvents;1\tEvents\n"
     ]
    }
   ],
   "source": [
    "#Opening the simulation ROOT file\n",
    "fsimu = r.TFile(\"samples/SMHiggsToZZTo4L_skim.root\")\n",
    "#listing the content of the file\n",
    "fsimu.ls()\n",
    "tot = fsimu.Get(\"Events\")"
   ]
  },
  {
   "cell_type": "code",
   "execution_count": 8,
   "metadata": {},
   "outputs": [
    {
     "name": "stdout",
     "output_type": "stream",
     "text": [
      "20367\n"
     ]
    }
   ],
   "source": [
    "#See how many events are there in this tree\n",
    "nEntries = tot.GetEntries()\n",
    "print(nEntries)"
   ]
  },
  {
   "cell_type": "code",
   "execution_count": 9,
   "metadata": {},
   "outputs": [
    {
     "name": "stdout",
     "output_type": "stream",
     "text": [
      "======> EVENT:0\n",
      " run             = 1\n",
      " luminosityBlock = 604\n",
      " event           = 180932\n",
      " HLT_IsoMu24_eta2p1 = 1\n",
      " HLT_IsoMu24     = 1\n",
      " HLT_IsoMu17_eta2p1_LooseIsoPFTau20 = 1\n",
      " PV_npvs         = 8\n",
      " PV_x            = 0.244362\n",
      " PV_y            = 0.394543\n",
      " PV_z            = -14.9556\n",
      " nMuon           = 2\n",
      " Muon_pt         = 24.9836, \n",
      "                  38.6145\n",
      " Muon_eta        = 1.58096, \n",
      "                  -0.514491\n",
      " Muon_phi        = 0.72122, \n",
      "                  2.53285\n",
      " Muon_mass       = 0.105658, \n",
      "                  0.105658\n",
      " Muon_charge     = 1, \n",
      "                  -1\n",
      " Muon_pfRelIso03_all = 0, \n",
      "                  0.029449\n",
      " Muon_pfRelIso04_all = 0, \n",
      "                  0.029449\n",
      " Muon_tightId    = 1, \n",
      "                  1\n",
      " Muon_softId     = 1, \n",
      "                  1\n",
      " Muon_dxy        = -0.00221812, \n",
      "                  -0.000838474\n",
      " Muon_dxyErr     = 0.0015282, \n",
      "                  0.00144338\n",
      " Muon_dz         = 0.00334992, \n",
      "                  0.00239859\n",
      " Muon_dzErr      = 0.00480997, \n",
      "                  0.00246404\n",
      " Muon_genPartIdx = 0, \n",
      "                  1\n",
      " nElectron       = 2\n",
      " Electron_pt     = 10.3171, \n",
      "                  21.3813\n",
      " Electron_eta    = -0.475619, \n",
      "                  0.598484\n",
      " Electron_phi    = -0.305471, \n",
      "                  2.6747\n",
      " Electron_mass   = -0.00381811, \n",
      "                  0.00737927\n",
      " Electron_charge = 1, \n",
      "                  -1\n",
      " Electron_pfRelIso03_all = 0.0638327, \n",
      "                  0\n",
      " Electron_dxy    = 0.00346245, \n",
      "                  -0.00415602\n",
      " Electron_dxyErr = 0.00593582, \n",
      "                  0.00370954\n",
      " Electron_dz     = -0.003596, \n",
      "                  -0.00366596\n",
      " Electron_dzErr  = 0.00536566, \n",
      "                  0.0035135\n",
      " Electron_cutBasedId = 1, \n",
      "                  1\n",
      " Electron_pfId   = 1, \n",
      "                  1\n",
      " Electron_genPartIdx = 2, \n",
      "                  3\n",
      " MET_pt          = 9.20245\n",
      " MET_phi         = -0.51172\n",
      " MET_sumet       = 479.055\n",
      " MET_significance = 0.595275\n",
      " MET_CovXX       = 142.486\n",
      " MET_CovXY       = -2.7106\n",
      " MET_CovYY       = 132.181\n",
      " nGenPart        = 4\n",
      " GenPart_pt      = 24.886, \n",
      "                  38.0174, 10.087, 20.6451\n",
      " GenPart_eta     = 1.58135, \n",
      "                  -0.514055, -0.475649, 0.598183\n",
      " GenPart_phi     = 0.720965, \n",
      "                  2.53279, -0.305047, 2.67411\n",
      " GenPart_mass    = 0.10566, \n",
      "                  0.10566, 0.000511, 0.000511\n",
      " GenPart_pdgId   = -13, \n",
      "                  13, -11, 11\n",
      " GenPart_status  = 1, \n",
      "                  1, 1, 1\n"
     ]
    }
   ],
   "source": [
    "#test a examplar event\n",
    "tot.Show(0)"
   ]
  },
  {
   "cell_type": "code",
   "execution_count": null,
   "metadata": {},
   "outputs": [],
   "source": [
    "#"
   ]
  },
  {
   "cell_type": "code",
   "execution_count": null,
   "metadata": {},
   "outputs": [],
   "source": [
    "## write a function that computes the invariant mass given the event\n",
    "## pt, phi, eta, mass are the arrays of the muons in each event\n",
    "##\n",
    "def invmass(pt,phi,eta,mass):\n",
    "    m = 0\n",
    "    px = pt[0]*np.cos(phi[0])+pt[1]*np.cos(phi[1])\n",
    "    py = pt[0]*np.sin(phi[0])+pt[1]*np.sin(phi[1])\n",
    "    theta0 = 2.*np.arctan(np.exp(-eta[0]))\n",
    "    theta1 = 2.*np.arctan(np.exp(-eta[1]))\n",
    "    pz = pt[0]/np.tan(theta0) + pt[1]/np.tan(theta1)\n",
    "    e0 = np.sqrt(pt[0]**2 + (pt[0]/np.tan(theta0))**2 + mass[0]**2)\n",
    "    e1 = np.sqrt(pt[1]**2 + (pt[1]/np.tan(theta1))**2 + mass[1]**2)\n",
    "    \n",
    "    m = np.sqrt((e0+e1)**2 - px**2 - py**2 - pz**2)\n",
    "    \n",
    "    ## OR in the massless muon limit, the formula can be more compact:\n",
    "    #m  = np.sqrt(2*pt[0]*pt[1]*(np.cosh(eta[0]-eta[1])-np.cos(phi[0]-phi[1])))\n",
    "    return m"
   ]
  }
 ],
 "metadata": {
  "kernelspec": {
   "display_name": "Python 2",
   "language": "python",
   "name": "python2"
  },
  "language_info": {
   "codemirror_mode": {
    "name": "ipython",
    "version": 2
   },
   "file_extension": ".py",
   "mimetype": "text/x-python",
   "name": "python",
   "nbconvert_exporter": "python",
   "pygments_lexer": "ipython2",
   "version": "2.7.15"
  }
 },
 "nbformat": 4,
 "nbformat_minor": 4
}
